{
 "cells": [
  {
   "cell_type": "markdown",
   "metadata": {},
   "source": [
    "# Анализ резонансов #"
   ]
  },
  {
   "cell_type": "markdown",
   "metadata": {},
   "source": [
    "$$\n",
    "\\def\\Dphi{\\Delta\\phi}\n",
    "\\def\\Dy{\\Delta y}\n",
    "\\def\\kx{k_x}\n",
    "\\def\\kxx{k_x^2}\n",
    "\\def\\ky{k_y}\n",
    "\\def\\kyy{k_y^2}\n",
    "\\def\\kz{k_z}\n",
    "\\def\\kzz{k_z^2}\n",
    "\\def\\f{\\Phi}\n",
    "\\def\\y{Y}\n",
    "\\def\\d#1#2{\\frac{\\partial #1}{\\partial #2}}\n",
    "\\def\\df#1#2#3{\\frac{\\partial #1}{\\partial #2}\\Big|_{ #3}}\n",
    "\\def\\dff#1#2#3#4{\\frac{\\partial #1 \\left( #2 \\right)}{\\partial #3}}\n",
    "\\def\\ra{\\rightarrow}\n",
    "\\def\\det#1#2{\\frac{D \\left( #1 \\right)}{D \\left( #2 \\right)}}\n",
    "$$\n"
   ]
  },
  {
   "cell_type": "markdown",
   "metadata": {},
   "source": [
    "## Постановка задачи ##"
   ]
  },
  {
   "cell_type": "markdown",
   "metadata": {},
   "source": [
    "Есть $\\rho$-мезон, который распадается на два $\\pi$-мезона с импульсами $\\vec p_1$ и $\\vec p_2$.  \n",
    "Пусть $(p_1, \\phi_1, \\theta_1)$ и $(p_2, \\phi_2, \\theta_2)$ - сферические координаты импульсов $\\vec p_1$ и $\\vec p_2$.  \n",
    "Мы хотим найти распределение по углам разлета мезонов $\\rho(\\Delta \\phi, \\Delta \\eta)$, где $\\Delta \\phi = \\phi_1 - \\phi_2$.  \n",
    "Пусть $\\vec r$ - импульс $\\rho$-мезона. $\\vec r = \\vec p_1 + \\vec p_2$.  \n",
    "Выберем оси координат импульс $\\rho$-мезона $\\vec r$ соноправленным с осью $x$.  \n",
    "Мы считаем модуль импульса $\\rho$-мезона фиксированным и известным: $|\\vec r| = R$.  \n",
    "Обозначим массу $\\rho$-мезона $M$, а массу $\\pi$-мезона $m$.  \n"
   ]
  },
  {
   "cell_type": "markdown",
   "metadata": {},
   "source": [
    "## Система отсчета центра масс $\\rho$-мезона ##"
   ]
  },
  {
   "cell_type": "markdown",
   "metadata": {},
   "source": [
    "Импульсы $\\pi$-мезонов в системе отсчета центра масс $\\rho$-мезона равны $\\vec k$ и $-\\vec k$ соответственно.  \n",
    "Пусть $\\varepsilon$ - энергия каждого из $\\pi$-мезонов в системе отсчета центра масс. Из закона сохранения энергии  $2\\varepsilon = M$. Пусть $E_1, E_2$ - энергии $\\pi$-мезонов в лобораторной системе отсчета.\n",
    "\n",
    "Мы будем считать направление вектора $\\vec k$ произвольным и распределенным равномерно. Модуль этого вектора $|\\vec k| = k$ выражается через $\\varepsilon$: $k = \\sqrt {\\varepsilon^2 - m^2} = \\sqrt{\\frac{M^2}{4}-m^2}$.  \n",
    "Таким образом в системе отсчета центра масс 4-импульсы всех мезонов:\n",
    "\n",
    "$$\n",
    "\\begin{cases}\n",
    "\\rho-\\text{мезон}:\\ (M, 0, 0, 0) \\\\\n",
    "\\text{первый}\\ \\pi-\\text{мезон}:\\ (\\varepsilon, k_x, k_y, k_z) \\\\\n",
    "\\text{второй}\\ \\pi-\\text{мезон}:\\ (\\varepsilon, -k_x, -k_y, -k_z) \\\\\n",
    "\\end{cases}\n",
    "$$\n",
    "\n",
    "В тоже время в лобораторной системе отсчета эти имульсы равны:  \n",
    "\n",
    "\n",
    "$$\n",
    "\\begin{cases}\n",
    "\\rho-\\text{мезон}:\\ (\\sqrt{M^2 + R^2}, R, 0, 0) \\\\\n",
    "\\text{первый}\\ \\pi-\\text{мезон}:\\ (E_1, p_{1x}, p_{1y}, p_{1z}) \\\\\n",
    "\\text{второй}\\ \\pi-\\text{мезон}:\\ (E_2, p_{2x}, p_{2y}, p_{2z}) \\\\\n",
    "\\end{cases}\n",
    "$$\n"
   ]
  },
  {
   "cell_type": "markdown",
   "metadata": {},
   "source": [
    "Пусть $V$ - модуль скорости $\\rho$ мезона в лабораторной системе отсчета.  \n",
    "Можно связать импульсы в разных системах отсчета с помощью преобразований Лоренца:\n",
    "\\begin{equation}\n",
    "R = \\frac{VM}{\\sqrt{1 - V^2}}\n",
    "\\end{equation}\n",
    "$$\n",
    "\\begin{cases}\n",
    "E_1 = \\frac{V k_x + \\varepsilon}{\\sqrt{1 - V^2}} \\\\\n",
    "p_{1x} = \\frac{k_x + V\\varepsilon}{\\sqrt{1 - V^2}} \\\\\n",
    "p_{1y} = k_y \\\\\n",
    "p_{1z} = k_z \\\\\n",
    "\\end{cases}\n",
    "$$\n",
    "  \n",
    "$$\n",
    "\\begin{cases}\n",
    "E_2 = \\frac{-V k_x + \\varepsilon}{\\sqrt{1 - V^2}} \\\\\n",
    "p_{2x} = \\frac{-k_x + V\\varepsilon}{\\sqrt{1 - V^2}} \\\\\n",
    "p_{2y} = -k_y \\\\\n",
    "p_{2z} = -k_z \\\\\n",
    "\\end{cases}\n",
    "$$\n",
    "\n",
    "Из первого уравнения можно получить модуль скорости: $V = \\sqrt\\frac{R^2}{R^2 + M^2}$ и подставить его в остальные."
   ]
  },
  {
   "cell_type": "markdown",
   "metadata": {},
   "source": [
    "## Выражения для $\\Dphi, \\Dy$##"
   ]
  },
  {
   "cell_type": "markdown",
   "metadata": {},
   "source": [
    "Для вычислений будем использовать переменные $k_x, k_y, k_z$. Любые две из них являются равномерно распределенными, а модуль третьей находится из соотношения $k_x^2 + k_y^2 + k_z^2 = k^2$.  \n",
    "Выразим декартовы координаты импульсов $\\pi$-мезонов через $k_x, k_y, k_z$:\n",
    "\n",
    "$$\n",
    "\\begin{cases}\n",
    "E_1 = a M / 2 + k_x R / M \\\\\n",
    "p_{1x} = R / 2 + a k_x \\\\\n",
    "p_{1y} = k_y \\\\\n",
    "p_{1z} = k_z \\\\\n",
    "\\end{cases}\n",
    "$$\n",
    "  \n",
    "$$\n",
    "\\begin{cases}\n",
    "E_2 = a M / 2 - k_x R / M \\\\\n",
    "p_{2x} = R / 2 - a k_x \\\\\n",
    "p_{2y} = -k_y \\\\\n",
    "p_{2z} = -k_z \\\\\n",
    "\\end{cases}\n",
    "$$\n",
    "  \n",
    "Здесь введено обозначение $a = \\frac{\\sqrt{M^2 + R^2}}{M} = \\sqrt{1 + \\frac{R^2}{M^2}}$.  "
   ]
  },
  {
   "cell_type": "markdown",
   "metadata": {},
   "source": [
    "Выразим азимуты и быстроты вдоль оси $z$ $\\pi$-мезонов через $k_x, k_y, k_z$:\n",
    "  \n",
    "$$\n",
    "\\begin{cases}\n",
    "tg\\ \\phi_1 = \\frac{p_{1y}}{p_{1x}} = \\frac{k_y}{R / 2 + a k_x} \\\\\n",
    "tg\\ \\phi_2 = \\frac{p_{2y}}{p_{2x}} = -\\frac{k_y}{R / 2 - a k_x} \\\\\n",
    "y_1 = \\frac{1}{2} ln \\frac{E_1 + p_{1z}}{E_1 - p_{1z}} = \\frac{1}{2} ln \\frac{E_1 + k_z}{E_1 - k_z} \\\\\n",
    "y_2 = \\frac{1}{2} ln \\frac{E_2 + p_{2z}}{E_2 - p_{2z}} = \\frac{1}{2} ln \\frac{E_2 - k_z}{E_2 + k_z} \\\\\n",
    "\\end{cases}\n",
    "$$"
   ]
  },
  {
   "cell_type": "markdown",
   "metadata": {},
   "source": [
    "Интересующие нас величины\n",
    "$$\\Delta \\phi = \\phi_1 - \\phi_2,$$\n",
    "$$\\Delta y =  y_1 - y_2$$\n",
    "\n",
    "\n",
    "$$\n",
    "tg \\Delta \\phi = \\frac{R k_y}{R^2 / 4 - a^2 k_x^2 - k_y^2} = \\frac{R\\sqrt{k^2 - k_x^2 - k_z^2}}{R^2 / 4 - k^2 - k_x^2 R^2 / M^2 + k_z^2}\n",
    "$$\n",
    "\n",
    "$$\\Dy = \\frac{1}{2} ln \\frac{(E_1 + \\kz)(E_2 + \\kz)}{(E_1 - \\kz)(E_2 - \\kz)} = \\frac{1}{2} ln \\frac{(R^2 + M^2) / 4 - \\kxx R^2 / M^2 + \\kzz +\\kz \\sqrt{R^2 + M^2}}{(R^2 + M^2) / 4 - \\kxx R^2 / M^2 + \\kzz -\\kz \\sqrt{R^2 + M^2}}$$"
   ]
  },
  {
   "cell_type": "markdown",
   "metadata": {},
   "source": [
    "Так, как $\\kx, \\kz$ распределенны равномерно распределением по $\\Dphi, \\Dy$ будет являтся определитель $\\det{\\kx,\\kz}{\\Dphi, \\Dy}$."
   ]
  },
  {
   "cell_type": "markdown",
   "metadata": {},
   "source": [
    "## План вычисления определителя $\\det{\\kx,\\kz}{\\Dphi, \\Dy}$##"
   ]
  },
  {
   "cell_type": "markdown",
   "metadata": {},
   "source": [
    "Введем вспомагательные переменные:  \n",
    "$$x = \\kxx R^2 / M^2  + k^2 - \\kzz - R^2 / 4$$\n",
    "$$ \\f = tg \\Dphi $$\n",
    "$$ \\y = e^{2\\Dy}$$\n",
    "$$ u = \\frac{\\y - 1}{\\y + 1}$$"
   ]
  },
  {
   "cell_type": "markdown",
   "metadata": {},
   "source": [
    "Мы будем последовательно переходить к различным парам переменных:\n",
    "$$\n",
    "\\def\\pa{\\kx, \\kz}\n",
    "\\def\\pb{x, \\kz}\n",
    "\\def\\pc{x, Y}\n",
    "\\def\\pd{\\f, Y}\n",
    "\\def\\pe{\\Dphi, \\Dy}\n",
    "$$\n",
    "$$\\pa\\ra\\pb\\ra\\pc\\ra\\pd\\ra\\pe$$"
   ]
  },
  {
   "cell_type": "markdown",
   "metadata": {},
   "source": [
    "$$\n",
    "\\det{\\pa}{\\pe} = \\det{\\pa}{\\pb}\\det{\\pb}{\\pc}\\det{\\pc}{\\pd}\\det{\\pd}{\\pe} \\\\\n",
    "= \\dff{\\kx}{\\pb}{x}{\\kz} \\cdot \\dff{\\kz}{\\pc}{Y}{x} \\cdot \\dff{x}{\\pd}{\\f}{Y} \\cdot \\dff{\\f}{\\pe}{\\Dphi}{\\Dy} \\cdot \\dff{Y}{\\pe}{\\Dy}{\\Dphi}\n",
    "$$"
   ]
  },
  {
   "cell_type": "markdown",
   "metadata": {},
   "source": [
    "## Вычисление частных производных ##"
   ]
  },
  {
   "cell_type": "markdown",
   "metadata": {},
   "source": [
    "Из формулы\n",
    "$$\n",
    "\\kxx = \\frac{M^2}{R^2}(x +  R^2 / 4 - (k^2 - \\kzz)) \\\\\n",
    "$$\n",
    "Следует\n",
    "$$\n",
    "\\dff{\\kx}{\\pb}{x}{} = \\frac{M^2}{2 R^2 \\kx}\n",
    "$$"
   ]
  },
  {
   "cell_type": "markdown",
   "metadata": {},
   "source": [
    "Из системы уравнений\n",
    "\n",
    "$$\n",
    "\\label{aaa}\n",
    "\\begin{cases}\n",
    "\\f = -\\frac{1}{x}\\sqrt{(R^2 + M^2)(k^2 - \\kzz) - M^2 x - M^2 R^2 / 4} \\\\\n",
    "\\y = \\frac{k^2 + M^2/4 - x + \\kz \\sqrt{R^2 + M^2}}{k^2 + M^2/4 - x - \\kz \\sqrt{R^2 + M^2}}\n",
    "\\end{cases}\n",
    "$$\n",
    "\n",
    "Находим нужные выражения для переменных."
   ]
  },
  {
   "cell_type": "markdown",
   "metadata": {},
   "source": [
    "Из второго уравнения системы находиться зависимость $\\kz (\\pc)$:  \n",
    "\n",
    "$$\n",
    "\\kz = \\frac{\\y - 1}{\\y + 1}\\frac{k^2 + M^2 / 4 - x}{\\sqrt{R^2 + M^2}} = u \\frac{k^2 + M^2 / 4 - x}{\\sqrt{R^2 + M^2}},\n",
    "$$"
   ]
  },
  {
   "cell_type": "markdown",
   "metadata": {},
   "source": [
    "$$\n",
    "\\dff{\\kz}{\\pc}{Y}{x} = \\frac{2}{(\\y + 1)^2}\\frac{k^2 + M^2 / 4 - x}{\\sqrt{R^2 + M^2}}\n",
    "$$"
   ]
  },
  {
   "cell_type": "markdown",
   "metadata": {},
   "source": [
    "Подставляя  $\\kz (\\pc)$ в первое уравнение системы находим квадратное уравнение неявно задающее $x (\\pd)$:  \n",
    "\n",
    "$$\n",
    "\\f^2 x^2 - (R^2 + M^2)k^2 + M^2 x + M^2 R^2 / 4 + u^2 (k^2 + M^2 / 4 - x)^2 = 0. $$"
   ]
  },
  {
   "cell_type": "markdown",
   "metadata": {},
   "source": [
    "Подставим $k^2 = M^2 / 4 - m^2$\n",
    "\n",
    "$$x^2 \\f^2 + u^2 (x + m^2)^2 + M^2 x + m^2 (R^2 + M^2) - M^4 / 4 = 0$$\n",
    "\n",
    "$$x^2 (\\f^2 + u^2) + 2x (M^2 / 2 + u^2 m^2) + (m^2(R^2 + M^2) + m^4 u^2 - M^4 / 4) = 0$$"
   ]
  },
  {
   "cell_type": "markdown",
   "metadata": {},
   "source": [
    "Уравнение имеет вид $ax^2 + 2bx + c = 0$, причем лишь $a$ зависит от $\\f$:\n",
    "$$\n",
    "x = \\frac{-b \\pm d}{a}, \\\\\n",
    "d = \\sqrt{b^2 - ac}, \\\\\n",
    "\\d{x}{\\f} = -\\frac{1}{a} \\d{a}{\\f} \\left( \\frac{-b \\pm d}{a} \\pm \\frac{c}{2d}\\right).\n",
    "$$"
   ]
  },
  {
   "cell_type": "markdown",
   "metadata": {},
   "source": [
    "В нашем случае\n",
    "$$\n",
    "a = \\f^2 + u^2 ,\\\\\n",
    "b = M^2 / 2 + u^2 m^2 ,\\\\\n",
    "c = m^2(R^2 + M^2) + m^4 u^2 - M^4 / 4 ,\\\\\n",
    "d = \\sqrt{(M^2 / 2 + u^2 m^2)^2 - (\\f^2 + u^2)(m^2(R^2 + M^2) + m^4 u^2 - M^4 / 4)} ,\\\\\n",
    "x =  \\frac{-(M^2 / 2 + u^2 m^2) \\pm \\sqrt{(M^2 / 2 + u^2 m^2)^2 - (\\f^2 + u^2)(m^2(R^2 + M^2) + m^4 u^2 - M^4 / 4)}}{\\f^2 + u^2} ,\\\\\n",
    "\\d{x}{\\f} =  -\\frac{2 \\f}{\\f^2 + u^2} \\\\\n",
    "\\cdot \\left( \\frac{-(M^2 / 2 + u^2 m^2) \\pm \\sqrt{(M^2 / 2 + u^2 m^2)^2 - (\\f^2 + u^2)(m^2(R^2 + M^2) + m^4 u^2 - M^4 / 4)}}{\\f^2 + u^2} \\\\\n",
    "\\pm \\frac{m^2(R^2 + M^2) + m^4 u^2 - M^4 / 4}{2\\sqrt{(M^2 / 2 + u^2 m^2)^2 - (\\f^2 + u^2)(m^2(R^2 + M^2) + m^4 u^2 - M^4 / 4)}}\\right) .\n",
    "$$"
   ]
  },
  {
   "cell_type": "markdown",
   "metadata": {},
   "source": [
    "Из соотношений\n",
    "$$ \\f = tg \\Dphi,$$\n",
    "$$ \\y = e^{2\\Dy}$$\n",
    "cледуют выражения для оставшихся частных производных\n",
    "$$\\dff{Y}{\\pe}{\\Dy}{} = 2 e^{2\\Dy},$$\n",
    "$$\\dff{\\f}{\\pe}{\\Dphi}{} = \\frac{1}{ cos^2 \\Dphi}.$$"
   ]
  },
  {
   "cell_type": "code",
   "execution_count": null,
   "metadata": {},
   "outputs": [],
   "source": []
  }
 ],
 "metadata": {
  "kernelspec": {
   "display_name": "Python 3",
   "language": "python",
   "name": "python3"
  },
  "language_info": {
   "codemirror_mode": {
    "name": "ipython",
    "version": 3
   },
   "file_extension": ".py",
   "mimetype": "text/x-python",
   "name": "python",
   "nbconvert_exporter": "python",
   "pygments_lexer": "ipython3",
   "version": "3.6.3"
  }
 },
 "nbformat": 4,
 "nbformat_minor": 2
}
