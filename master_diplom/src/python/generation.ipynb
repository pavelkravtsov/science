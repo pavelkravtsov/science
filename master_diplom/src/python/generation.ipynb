{
 "cells": [
  {
   "cell_type": "markdown",
   "metadata": {},
   "source": [
    "## Моделирование методом Монте-Карло ##"
   ]
  },
  {
   "cell_type": "code",
   "execution_count": 1,
   "metadata": {},
   "outputs": [],
   "source": [
    "from numpy import *\n",
    "from numpy.random import random\n",
    "sq = square\n",
    "N = 100000\n",
    "rnd = lambda: random(N)"
   ]
  },
  {
   "cell_type": "code",
   "execution_count": 2,
   "metadata": {},
   "outputs": [],
   "source": [
    "from mpl_toolkits.mplot3d import Axes3D\n",
    "from matplotlib.colors import LogNorm\n",
    "import matplotlib.pyplot as plt\n",
    "from matplotlib import cm\n",
    "import numpy as np"
   ]
  },
  {
   "cell_type": "code",
   "execution_count": 3,
   "metadata": {},
   "outputs": [],
   "source": [
    "#%matplotlib notebook "
   ]
  },
  {
   "cell_type": "code",
   "execution_count": 4,
   "metadata": {},
   "outputs": [],
   "source": [
    "def gen_k(K):\n",
    "    kx = K *(2 * rnd() - 1)\n",
    "    l = sqrt(sq(K) - sq(kx))\n",
    "    kz = l * (2 * rnd() - 1)\n",
    "    ky = sqrt(sq(K) - sq(kx) - sq(kz)) * np.random.choice([-1,1], N)\n",
    "    return kx, ky, kz"
   ]
  },
  {
   "cell_type": "code",
   "execution_count": 5,
   "metadata": {},
   "outputs": [],
   "source": [
    "def dfdy(k, M, m, R):\n",
    "    a = sqrt(1 + sq(R) / sq(M))\n",
    "    kx, ky, kz = k\n",
    "    \n",
    "    E1 = a * M / 2 + kx * R / M\n",
    "    p1x = R / 2 + a * kx\n",
    "    p1y = ky\n",
    "    p1z = kz\n",
    "    \n",
    "    E2 = a * M / 2 - kx * R / M\n",
    "    p2x = R / 2 - a * kx\n",
    "    p2y = -ky\n",
    "    p2z = -kz\n",
    "    \n",
    "    #tg1 = p1y / p1x\n",
    "    #tg2 = p2y / p2x\n",
    "    #tgdf = (tg1 - tg2) / (1 - tg1 * tg2)\n",
    "    #df = arctan(tgdf)\n",
    "    \n",
    "    f1 = arctan2(p1y, p1x)\n",
    "    f2 = arctan2(p2y, p2x)\n",
    "    df = f1 - f2\n",
    "    \n",
    "    y1 = 0.5 * log((E1 + p1z)/ (E1 - p1z))\n",
    "    y2 = 0.5 * log((E2 + p2z)/ (E2 - p2z))\n",
    "    dy = y1 - y2\n",
    "    \n",
    "    return dy, df"
   ]
  },
  {
   "cell_type": "code",
   "execution_count": 6,
   "metadata": {},
   "outputs": [],
   "source": [
    "def string(dphi):\n",
    "    y = cos(dphi) / 2\n",
    "    c = sqrt(1 - sq(y))\n",
    "    return (3 / (8 * pi)) * (c - y * arccos(y)) / (c * c * c)\n",
    "\n",
    "def delta(Y):\n",
    "    res = []\n",
    "    for y in Y:\n",
    "        s = array([0 if abs(d) > 0.1 else 1 for d in (y - 1)])\n",
    "        s += array([0 if abs(d) > 0.1 else 1 for d in (y + 1)])\n",
    "        #s = 1 - cos(pi * y)\n",
    "        res.append(s)\n",
    "    return np.array(res)"
   ]
  },
  {
   "cell_type": "code",
   "execution_count": 7,
   "metadata": {},
   "outputs": [],
   "source": [
    "M = 0.775\n",
    "m = 0.140\n",
    "R = 1.3000\n",
    "K = sqrt(sq(M / 2) - sq(m))\n",
    "sigma_x = 0.5\n",
    "sigma_y = 0.4\n",
    "d = 1000\n",
    "dx = 0.1\n",
    "dy = pi / 20\n",
    "spi = sqrt(2 * pi)"
   ]
  },
  {
   "cell_type": "code",
   "execution_count": 12,
   "metadata": {
    "scrolled": true
   },
   "outputs": [],
   "source": [
    "def show(R, sigma_x=0.5, sigma_y=0.4, d=1000):\n",
    "    X = np.arange(-2, 2.01, dx)\n",
    "    Y = np.arange(-pi , pi + 0.01, dy)\n",
    "    Z, X, Y = histogram2d(*dfdy(gen_k(K), M, m, R), bins=(X, Y))\n",
    "    X = mean([X[1:], X[:-1]], axis=0)\n",
    "    Y = mean([Y[1:], Y[:-1]], axis=0)\n",
    "    Z = Z.T\n",
    "    X, Y = np.meshgrid(X, Y)\n",
    "    #X.shape, Y.shape, Z.shape, mesh[1].shape\n",
    "\n",
    "    W = delta(X) * string(Y)\n",
    "    Z = Z + d * W\n",
    "\n",
    "    Z_ = np.zeros(Z.shape)\n",
    "    for i in range(Z.shape[0]):\n",
    "        for j in range(Z.shape[1]):\n",
    "            k_range = int(3 * sigma_x / dx)\n",
    "            for k in range(-k_range, k_range + 1):\n",
    "                if (j + k >= 0 and (j + k < Z.shape[1])):\n",
    "                    Z_[i, j] += Z[i ,j + k] * exp(-sq(dy * k) / sq(sigma_y)) / sigma_y / spi\n",
    "\n",
    "    Z__ = np.zeros(Z.shape)\n",
    "    for i in range(Z.shape[0]):\n",
    "        for j in range(Z.shape[1]):\n",
    "            k_range = int(3 * sigma_y / dy)\n",
    "            for k in range(-k_range, k_range + 1):\n",
    "                if (i + k >= 0 and (i + k < Z.shape[0])):\n",
    "                    Z__[i, j] += Z_[i + k ,j ] * exp(-sq(dx * k) / sq(sigma_x)) / sigma_x / spi\n",
    "\n",
    "    fig = plt.figure()\n",
    "    ax = fig.add_subplot(111, projection=\"3d\")\n",
    "    #ax = fig.gca(projection='3d', xlabel=, ylabel=\"$\\Delta \\phi$\", title=\"R = \" + str(R) + \" GeV\")\n",
    "    surf = ax.plot_surface(X, Y, Z__ / sum(Z), cmap=cm.coolwarm, linewidth=0, antialiased=False)\n",
    "    #ax.set_zlim3d(0.0, 1.0)\n",
    "    x_label = ax.set_xlabel(\"$\\Delta y$\")\n",
    "    y_label = ax.set_ylabel(\"$\\Delta \\phi$\")\n",
    "    x_label.set_fontsize(14)\n",
    "    y_label.set_fontsize(14)\n",
    "    #ax.set_zlabel(r\"\")\n",
    "    ax.view_init(45, -45)\n",
    "    plt.savefig(\"R\" + str(R) + \".png\")\n"
   ]
  },
  {
   "cell_type": "code",
   "execution_count": 13,
   "metadata": {
    "scrolled": true
   },
   "outputs": [],
   "source": [
    "show(2,sigma_x=0.2, sigma_y=0.2, d=0)"
   ]
  },
  {
   "cell_type": "code",
   "execution_count": 14,
   "metadata": {
    "scrolled": true
   },
   "outputs": [],
   "source": [
    "show(3,sigma_x=0.2, sigma_y=0.2, d=0)"
   ]
  },
  {
   "cell_type": "code",
   "execution_count": 15,
   "metadata": {
    "scrolled": true
   },
   "outputs": [],
   "source": [
    "show(2.5,sigma_x=0.2, sigma_y=0.2, d=0)"
   ]
  },
  {
   "cell_type": "code",
   "execution_count": 16,
   "metadata": {
    "scrolled": true
   },
   "outputs": [],
   "source": [
    "show(1,sigma_x=0.2, sigma_y=0.2, d=0)"
   ]
  },
  {
   "cell_type": "code",
   "execution_count": 17,
   "metadata": {
    "scrolled": true
   },
   "outputs": [],
   "source": [
    "show(1.5,sigma_x=0.2, sigma_y=0.2, d=0)"
   ]
  },
  {
   "cell_type": "code",
   "execution_count": 18,
   "metadata": {
    "scrolled": true
   },
   "outputs": [],
   "source": [
    "show(5,sigma_x=0.2, sigma_y=0.2, d=0)"
   ]
  },
  {
   "cell_type": "code",
   "execution_count": null,
   "metadata": {},
   "outputs": [],
   "source": [
    "import matplotlib.pyplot as plt\n",
    "from ipywidgets import interact\n",
    "from bokeh.models import ColumnDataSource\n",
    "\n",
    "from bokeh.io import push_notebook, show, output_notebook\n",
    "from bokeh.plotting import figure\n",
    "output_notebook()"
   ]
  },
  {
   "cell_type": "code",
   "execution_count": null,
   "metadata": {},
   "outputs": [],
   "source": [
    "def present(f_gen, f_calc, title = \"\", a = 7, b = 4, l = 0.1, r = 1):\n",
    "    p = figure(title=title, plot_height=400, plot_width=900)\n",
    "    \n",
    "    hist, edges = np.histogram(f_gen(a, b), density=True,normed=True, bins=100)\n",
    "    gen = p.quad(top=hist, bottom=0, left=edges[:-1], right=edges[1:], fill_color=\"#036564\", line_color=\"#033649\", legend=\"Monte-Carlo\")\n",
    "    \n",
    "    m = 1000 / (r - l)\n",
    "    x = np.linspace(l, r, 1000)\n",
    "    #calc = p.line(x=x, y= m * f_calc(x, a, b), line_color=\"#D95B43\", line_width=8, alpha=0.7, legend=\"Calculated\")\n",
    "\n",
    "    def update(a = 7, b = 4):\n",
    "        hist, edges = np.histogram(f_gen(a, b), density=True, normed=True, bins=100)\n",
    "        gen.data_source.data['top'] = hist\n",
    "        #calc.data_source.data['y'] = m * f_calc(x, a, b)\n",
    "        \n",
    "        push_notebook()\n",
    "\n",
    "    show(p, notebook_handle=True)\n",
    "    interact(update, a=(0.1,10, 0.1), b=(0.1, 10, 0.1))"
   ]
  },
  {
   "cell_type": "code",
   "execution_count": null,
   "metadata": {},
   "outputs": [],
   "source": [
    "def show2(R, sigma_x=0.5, sigma_y=0.4, d=1000):\n",
    "    X = np.arange(-2, 2.01, dx)\n",
    "    Y = np.arange(-pi , 2 * pi + 0.01, dy)\n",
    "    Z, X, Y = histogram2d(*dfdy(gen_k(K), M, m, R), bins=(X, Y))\n",
    "    X = mean([X[1:], X[:-1]], axis=0)\n",
    "    Y = mean([Y[1:], Y[:-1]], axis=0)\n",
    "    Z = Z.T\n",
    "    X, Y = np.meshgrid(X, Y)\n",
    "    #X.shape, Y.shape, Z.shape, mesh[1].shape\n",
    "\n",
    "    W = delta(X) * string(Y)\n",
    "    Z = Z + d * W\n",
    "\n",
    "    Z_ = np.zeros(Z.shape)\n",
    "    for i in range(Z.shape[0]):\n",
    "        for j in range(Z.shape[1]):\n",
    "            k_range = int(3 * sigma_x / dx)\n",
    "            for k in range(-k_range, k_range + 1):\n",
    "                if (j + k >= 0 and (j + k < Z.shape[1])):\n",
    "                    Z_[i, j] += Z[i ,j + k] * exp(-sq(dy * k) / sq(sigma_y)) / sigma_y / spi\n",
    "\n",
    "    Z__ = np.zeros(Z.shape)\n",
    "    for i in range(Z.shape[0]):\n",
    "        for j in range(Z.shape[1]):\n",
    "            k_range = int(3 * sigma_y / dy)\n",
    "            for k in range(-k_range, k_range + 1):\n",
    "                if (i + k >= 0 and (i + k < Z.shape[0])):\n",
    "                    Z__[i, j] += Z_[i + k ,j ] * exp(-sq(dx * k) / sq(sigma_x)) / sigma_x / spi\n",
    "\n",
    "    fig = figure(plot_height=400, plot_width=900)\n",
    "    ax = fig.gca(projection='3d', xlabel=\"$\\Delta y$\", ylabel=\"$\\Delta \\phi$\", title=\"R = \" + str(R) + \" GeV\")\n",
    "    surf = ax.plot_surface(X, Y, Z__ / sum(Z), cmap=cm.coolwarm, linewidth=0, antialiased=False)\n",
    "    show(fig)"
   ]
  },
  {
   "cell_type": "code",
   "execution_count": null,
   "metadata": {},
   "outputs": [],
   "source": [
    "show2(1)"
   ]
  },
  {
   "cell_type": "code",
   "execution_count": null,
   "metadata": {},
   "outputs": [],
   "source": []
  }
 ],
 "metadata": {
  "kernelspec": {
   "display_name": "Python 3",
   "language": "python",
   "name": "python3"
  },
  "language_info": {
   "codemirror_mode": {
    "name": "ipython",
    "version": 3
   },
   "file_extension": ".py",
   "mimetype": "text/x-python",
   "name": "python",
   "nbconvert_exporter": "python",
   "pygments_lexer": "ipython3",
   "version": "3.6.3"
  }
 },
 "nbformat": 4,
 "nbformat_minor": 2
}
