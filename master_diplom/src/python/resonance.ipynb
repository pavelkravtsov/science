{
 "cells": [
  {
   "cell_type": "markdown",
   "metadata": {},
   "source": [
    "## Постановка задачи ##"
   ]
  },
  {
   "cell_type": "markdown",
   "metadata": {},
   "source": [
    "Пусть $\\vec r$ - импульс $\\rho$-мезона который распадается на два $\\pi$-мезона с импульсами $\\vec p$ и $\\vec q$. Мы хотим найти распределение по углам разлета мезонов $\\rho(\\Delta \\phi, \\theta_1, \\theta_2)$, где $\\Delta \\phi = \\phi_1 - \\phi_2$."
   ]
  },
  {
   "cell_type": "markdown",
   "metadata": {},
   "source": [
    "Мы считаем:  \n",
    "1. Модуль импульса $\\rho$-мезона фиксированным: $|\\vec r| = R$  \n",
    "2. Все мезоны лежащими на массовой поверхности, следовательно импульсы $\\pi$-мезонов в системе центра масс $\\vec k / 2$ и $-\\vec k / 2$ ($\\vec k = (\\vec p - \\vec q)$) тоже имеют фиксированный модуль: $|\\vec k| = K$. Величина $K$ однозначно выражается через массы мезонов.  \n",
    "3. В остальном считаем все события удовлетворяюшие условиям 1 и 2 равновероятными"
   ]
  },
  {
   "cell_type": "markdown",
   "metadata": {},
   "source": [
    "## Вычисления ##"
   ]
  },
  {
   "cell_type": "markdown",
   "metadata": {},
   "source": [
    "Проинтегрируем по $\\vec r$ и $\\vec k$ при фиксированных $\\Delta \\phi, \\theta_1, \\theta_2, |\\vec r|\\ и\\ |\\vec k|$"
   ]
  },
  {
   "cell_type": "markdown",
   "metadata": {},
   "source": [
    "$$I = \\rho(\\Delta \\phi, \\theta_1, \\theta_2) \\propto \\int \\int d^3 k\\ d^3 r\\ \\delta(|\\vec r|^2 - R^2)\\ \\delta(|\\vec k|^2 - K^2) \\cdot\\ f(\\Delta \\phi, \\theta_1, \\theta_2)$$"
   ]
  },
  {
   "cell_type": "markdown",
   "metadata": {},
   "source": [
    "Здесь введено обозначение $ f(\\Delta \\phi, \\theta_1, \\theta_2) = \\delta (\\Delta \\phi(\\vec r, \\vec k) - \\Delta \\phi) \\cdot  \\delta(\\theta_1(\\vec r, \\vec k) - \\theta_1) \\cdot \\delta(\\theta_2(\\vec r, \\vec k) - \\theta_2)$.  \n",
    "В $\\delta$-функциях стоит разность переменной как функции от $\\vec r,\\ \\vec k$ и переменной, как аргумента функции $f$."
   ]
  },
  {
   "cell_type": "markdown",
   "metadata": {},
   "source": [
    "Сделаем замену $r,k \\rightarrow p, q$:  \n",
    "    $\\vec r = \\vec p + \\vec q$  \n",
    "    $\\vec k = \\vec p - \\vec q$  \n",
    "И используем сферические координаты для $p$ и $q$  "
   ]
  },
  {
   "cell_type": "markdown",
   "metadata": {},
   "source": [
    "$$I \\propto \\int_0^\\pi d\\theta_1\\ sin \\theta_1 \\int_0^\\pi d\\theta_2\\  sin \\theta_2 \\int_0^{2\\pi} d\\phi_1\\ \\int_0^{2\\pi} d\\phi_2\\ \\int_0^{+\\infty} dp\\ p^2 \\int_0^{+\\infty} dq\\ q^2\\ \\cdot \\\\ \\delta((p^2 + q^2 + 2pq\\gamma) - R^2) \\cdot \\delta((p^2 + q^2 - 2pq\\gamma) - K^2) \\cdot\\ f(\\Delta \\phi, \\theta_1, \\theta_2)$$  \n",
    ",где $\\gamma = \\gamma (\\Delta \\phi, \\theta_1, \\theta_2) = sin\\theta_1 sin \\theta_2 cos \\Delta \\phi + cos \\theta_1 cos \\theta_2$ имеет смысл косинуса угла между двумя векторами"
   ]
  },
  {
   "cell_type": "markdown",
   "metadata": {},
   "source": [
    "$$I \\propto  \\int d\\theta_1 \\int d\\theta_2 \\int d\\Delta\\phi\\ (\\pi - |\\Delta\\phi|)\\ sin \\theta_1 sin \\theta_2\\ f(\\Delta \\phi, \\theta_1, \\theta_2) \\cdot \\\\ \\left( \\int dp \\int dq\\ p^2 q^2\\ \\delta((p^2 + q^2 + 2pq\\gamma) - R^2) \\cdot \\delta((p^2 + q^2 - 2pq\\gamma) - K^2) \\right)$$"
   ]
  },
  {
   "cell_type": "markdown",
   "metadata": {},
   "source": [
    "Обозначим за $A(\\gamma)$ то, что в последних скобках  \n",
    "$$A(\\gamma) =  \\int dp \\int dq\\ p^2 q^2\\ \\delta((p^2 + q^2 + 2pq\\gamma) - R^2) \\cdot \\delta((p^2 + q^2 - 2pq\\gamma) - K^2) $$"
   ]
  },
  {
   "cell_type": "markdown",
   "metadata": {},
   "source": [
    "Тогда  \n",
    "$$ I = \\rho(\\Delta \\phi, \\theta_1, \\theta_2) \\propto (\\pi - |\\Delta\\phi|)\\ sin \\theta_1 sin \\theta_2\\cdot A(\\gamma(\\Delta \\phi, \\theta_1, \\theta_2)) $$"
   ]
  },
  {
   "cell_type": "markdown",
   "metadata": {},
   "source": [
    "## Вычисления $A(\\gamma)$ ##"
   ]
  },
  {
   "cell_type": "markdown",
   "metadata": {},
   "source": [
    "Сделаем замену $p, q \\rightarrow t, u$:  \n",
    "$p^2 + q^2 = t$  \n",
    "$2pq = tu$  "
   ]
  },
  {
   "cell_type": "markdown",
   "metadata": {},
   "source": [
    "$$ A(\\gamma) \\propto \\int_0^{+\\infty} dt \\int_0^1 du\\ \\delta(t(1 + u\\gamma) - R^2)\\ \\delta(t(1 - u\\gamma) - K^2) \\ t^2 \\frac{u^2}{\\sqrt{1 - u^2}}$$"
   ]
  },
  {
   "cell_type": "markdown",
   "metadata": {},
   "source": [
    "Снимаем интегрирование по t. Из $\\delta$-функции $t = \\frac{K^2}{1 - u \\gamma}$"
   ]
  },
  {
   "cell_type": "markdown",
   "metadata": {},
   "source": [
    "$$ A(\\gamma) \\propto \\int_0^1 du\\ \\delta(\\frac{1 + u\\gamma}{1 - u\\gamma} - \\frac{R^2}{K^2})\\   \\frac{u^2}{(1 - u\\gamma)^2\\sqrt{1 - u^2}}$$"
   ]
  },
  {
   "cell_type": "markdown",
   "metadata": {},
   "source": [
    "Из $\\delta$-функции $u\\gamma = \\frac{R^2 - K^2}{R^2 + K^2}$"
   ]
  },
  {
   "cell_type": "markdown",
   "metadata": {},
   "source": [
    "$$A(\\gamma) \\propto \\frac{\\gamma^{-2}}{\\sqrt{1 - \\left(\\frac{R^2 - K^2}{R^2 + K^2}\\right)^2 / \\gamma^2}} = \\frac{1}{\\gamma \\sqrt{\\gamma^2 - \\left(\\frac{R^2 - K^2}{R^2 + K^2}\\right)^2}}$$"
   ]
  },
  {
   "cell_type": "markdown",
   "metadata": {},
   "source": [
    "там, где $\\frac{R^2 - K^2}{\\gamma(R^2 + K^2)} \\in [0, 1]$ И $A(\\gamma) = 0$ в остальных случаях"
   ]
  },
  {
   "cell_type": "markdown",
   "metadata": {},
   "source": [
    "##  Графики ##"
   ]
  },
  {
   "cell_type": "code",
   "execution_count": 1,
   "metadata": {
    "collapsed": true
   },
   "outputs": [],
   "source": [
    "import matplotlib.pyplot as plt\n",
    "import numpy as np\n",
    "from math import *"
   ]
  },
  {
   "cell_type": "markdown",
   "metadata": {},
   "source": [
    "Обозначим за $a = \\frac{R^2 - K^2}{(R^2 + K^2)}$.  \n",
    "Наша функция $A(\\gamma)$:"
   ]
  },
  {
   "cell_type": "code",
   "execution_count": 23,
   "metadata": {
    "collapsed": true
   },
   "outputs": [],
   "source": [
    "def A(y, a):\n",
    "    return 1.0 / (y * np.sqrt(y * y - a * a * np.ones(y.shape)))"
   ]
  },
  {
   "cell_type": "markdown",
   "metadata": {},
   "source": [
    "Процедура рисования графика $A(\\gamma)$ для заданного $a$:"
   ]
  },
  {
   "cell_type": "code",
   "execution_count": 24,
   "metadata": {
    "collapsed": true
   },
   "outputs": [],
   "source": [
    "def plot(a):\n",
    "    x = np.arange(0, 1.01, 0.01)\n",
    "    y = A(x, a)\n",
    "    y = y / np.sum(list(filter(lambda x: (x < 1000000) and (x != np.nan), y)))\n",
    "    plt.plot(x, y, x, np.zeros(x.shape))\n",
    "    plt.show()"
   ]
  },
  {
   "cell_type": "code",
   "execution_count": 25,
   "metadata": {},
   "outputs": [
    {
     "name": "stderr",
     "output_type": "stream",
     "text": [
      "C:\\Users\\Pavel\\Anaconda3\\lib\\site-packages\\ipykernel_launcher.py:2: RuntimeWarning: invalid value encountered in sqrt\n",
      "  \n",
      "C:\\Users\\Pavel\\Anaconda3\\lib\\site-packages\\ipykernel_launcher.py:2: RuntimeWarning: divide by zero encountered in true_divide\n",
      "  \n"
     ]
    },
    {
     "data": {
      "image/png": "[encoded data removed]",
      "text/plain": [
       "<matplotlib.figure.Figure at 0x200b99c4c18>"
      ]
     },
     "metadata": {},
     "output_type": "display_data"
    }
   ],
   "source": [
    "plot(0.1)"
   ]
  },
  {
   "cell_type": "markdown",
   "metadata": {
    "collapsed": true
   },
   "source": [
    "## Выводы  ##"
   ]
  },
  {
   "cell_type": "markdown",
   "metadata": {},
   "source": [
    "Из графика видно, что максимум достигается при $\\gamma = a = \\frac{R^2 - K^2}{(R^2 + K^2)}$, и в окрестности нуля имеется провал"
   ]
  },
  {
   "cell_type": "markdown",
   "metadata": {},
   "source": [
    "Для того, чтобы получить распределение $\\rho (\\Delta \\phi, \\Delta \\eta)$ из $A(\\gamma)$ нужно:  \n",
    "1. Посчитать $\\rho(\\Delta \\phi, \\theta_1, \\theta_2) \\propto (\\pi - |\\Delta\\phi|)\\ sin \\theta_1 sin \\theta_2\\cdot A(\\gamma(\\Delta \\phi, \\theta_1, \\theta_2))$  \n",
    "2. Перевести $\\theta_i$ в $\\eta_i = ln(tg(\\frac{\\theta_i}{2}))$  \n",
    "3. Сделать замену $\\Delta \\eta = \\eta_2 - \\eta_1, \\eta = \\eta_1 + \\eta_2$ и проинтегрировать по $\\eta$. (Это можно сделать только численно)"
   ]
  },
  {
   "cell_type": "markdown",
   "metadata": {},
   "source": [
    "Можно ожидать что поведение $\\rho (\\Delta \\phi, \\Delta \\eta)$ и $A(\\gamma(\\Delta \\phi = 0, \\Delta \\eta))$ будут похожи"
   ]
  },
  {
   "cell_type": "code",
   "execution_count": null,
   "metadata": {},
   "outputs": [],
   "source": []
  }
 ],
 "metadata": {
  "kernelspec": {
   "display_name": "Python 3",
   "language": "python",
   "name": "python3"
  },
  "language_info": {
   "codemirror_mode": {
    "name": "ipython",
    "version": 3
   },
   "file_extension": ".py",
   "mimetype": "text/x-python",
   "name": "python",
   "nbconvert_exporter": "python",
   "pygments_lexer": "ipython3",
   "version": "3.6.3"
  }
 },
 "nbformat": 4,
 "nbformat_minor": 2
}
