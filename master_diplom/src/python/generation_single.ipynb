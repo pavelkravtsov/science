{
 "cells": [
  {
   "cell_type": "markdown",
   "metadata": {},
   "source": [
    "## Моделирование методом Монте-Карло ##"
   ]
  },
  {
   "cell_type": "code",
   "execution_count": null,
   "metadata": {},
   "outputs": [],
   "source": [
    "def dphi_calc(dphi, a, b, sign = +1):\n",
    "    f = 1 / np.tan(dphi)\n",
    "    sin = np.sin(dphi)\n",
    "    df_ddphi = - 1 / (sin * sin)\n",
    "    \n",
    "    c1 = (a * a - 1)\n",
    "    u = (2 * b * b * f * f) / (c1 * c1)\n",
    "    t = (b * b - 1) / c1\n",
    "    du_df = 4 * b * b * f / (c1 * c1)\n",
    "    \n",
    "    sx = np.sqrt((t - u) + sign * np.sqrt(u * (u + 2 - 2 * t)))\n",
    "    dsx_du = (0.5 / sx) * (-1 + sign * (u / np.sqrt(u * (u + 2 - 2 * t))))\n",
    "    res = (dsx_du * du_df * df_ddphi)\n",
    "    return cut(norm(res), 0.001)"
   ]
  },
  {
   "cell_type": "code",
   "execution_count": null,
   "metadata": {},
   "outputs": [],
   "source": [
    "N = 100000"
   ]
  },
  {
   "cell_type": "code",
   "execution_count": null,
   "metadata": {},
   "outputs": [],
   "source": [
    "def ab(R, M, m):\n",
    "    return np.sqrt(1 + np.square(R / M)),R / np.sqrt(M * M - 4 * m * m)\n",
    "        \n",
    "def present(f_gen, f_calc, l = 0, r = 1):\n",
    "    plot_holder = figure(plot_height=400, plot_width=900)\n",
    "    \n",
    "    hist, edges = np.histogram(f_gen(*ab(1, 4, 1)), density=True,normed=True, bins=100)\n",
    "    plot_gen = plot_holder.quad(top=hist, bottom=0, left=edges[:-1], right=edges[1:], \n",
    "                 fill_color=\"#036564\", line_color=\"#033649\", legend=\"Monte-Carlo\")\n",
    "\n",
    "    #m = 1000 / (r - l)\n",
    "    #x = np.linspace(l, r, 1000)\n",
    "    #plot_calc = p.line(x=x, y= m * f_calc(x, a, b), line_color=\"#D95B43\", line_width=8, alpha=0.7, legend=\"Calculated\")\n",
    "\n",
    "    show(plot_holder, notebook_handle=True)\n",
    "        \n",
    "    @interact(R=widgets.FloatSlider(min=0.1, max=100, step=0.1, value=1), \n",
    "              M=(0.1, 100, 0.1), \n",
    "              m=(0.1, 10, 0.1))\n",
    "    def update(R=1, M=4, m=1):\n",
    "        if (M <= 2 * m): return\n",
    "        \n",
    "        a, b = ab(R, M, m)\n",
    "        hist, edges = np.histogram(f_gen(a, b), density=True, normed=True, bins=100)\n",
    "        plot_gen.data_source.data['top'] = hist\n",
    "        push_notebook()\n",
    "\n",
    "\n",
    "\n",
    "present(dphi_gen, dphi_calc, \"\\Delta \\phi\")\n",
    "\n",
    "present(dtheta_gen, \"\\Delta \\eta\")"
   ]
  },
  {
   "cell_type": "markdown",
   "metadata": {},
   "source": [
    "# TEST #"
   ]
  },
  {
   "cell_type": "code",
   "execution_count": 1,
   "metadata": {},
   "outputs": [
    {
     "ename": "NameError",
     "evalue": "name 'dphi_gen' is not defined",
     "output_type": "error",
     "traceback": [
      "\u001b[1;31m---------------------------------------------------------------------------\u001b[0m",
      "\u001b[1;31mNameError\u001b[0m                                 Traceback (most recent call last)",
      "\u001b[1;32m<ipython-input-1-6332316e3b30>\u001b[0m in \u001b[0;36m<module>\u001b[1;34m()\u001b[0m\n\u001b[0;32m     55\u001b[0m \u001b[1;33m\u001b[0m\u001b[0m\n\u001b[0;32m     56\u001b[0m \u001b[1;33m\u001b[0m\u001b[0m\n\u001b[1;32m---> 57\u001b[1;33m \u001b[0mpresent\u001b[0m\u001b[1;33m(\u001b[0m\u001b[0mdphi_gen\u001b[0m\u001b[1;33m,\u001b[0m \u001b[0mdphi_calc\u001b[0m\u001b[1;33m,\u001b[0m \u001b[1;34m\"\\Delta \\phi\"\u001b[0m\u001b[1;33m)\u001b[0m\u001b[1;33m\u001b[0m\u001b[0m\n\u001b[0m\u001b[0;32m     58\u001b[0m \u001b[1;33m\u001b[0m\u001b[0m\n\u001b[0;32m     59\u001b[0m \u001b[0mpresent\u001b[0m\u001b[1;33m(\u001b[0m\u001b[0mdtheta_gen\u001b[0m\u001b[1;33m,\u001b[0m \u001b[1;34m\"\\Delta \\eta\"\u001b[0m\u001b[1;33m)\u001b[0m\u001b[1;33m\u001b[0m\u001b[0m\n",
      "\u001b[1;31mNameError\u001b[0m: name 'dphi_gen' is not defined"
     ]
    }
   ],
   "source": [
    "def cut(x, c=1):\n",
    "    return np.min([x, c * np.ones(x.shape)], axis=0)\n",
    "\n",
    "def norm(x, c=100):\n",
    "    res = np.array(list(filter(lambda x: x < c and x > -c, x)))\n",
    "    return res / np.sum(res)\n",
    "\n",
    "def dphi_calc(dphi, a, b, sign = +1):\n",
    "    f = 1 / np.tan(dphi)\n",
    "    sin = np.sin(dphi)\n",
    "    df_ddphi = - 1 / (sin * sin)\n",
    "    \n",
    "    c1 = (a * a - 1)\n",
    "    u = (2 * b * b * f * f) / (c1 * c1)\n",
    "    t = (b * b - 1) / c1\n",
    "    du_df = 4 * b * b * f / (c1 * c1)\n",
    "    \n",
    "    sx = np.sqrt((t - u) + sign * np.sqrt(u * (u + 2 - 2 * t)))\n",
    "    dsx_du = (0.5 / sx) * (-1 + sign * (u / np.sqrt(u * (u + 2 - 2 * t))))\n",
    "    res = (dsx_du * du_df * df_ddphi)\n",
    "    #res = cut(res, 10)\n",
    "    #res = norm(res)\n",
    "    return res\n",
    "\n",
    "p = figure(title=\"title\", plot_height=400, plot_width=900)\n",
    "x = np.linspace(0.1, 1, 1000)\n",
    "a = 7\n",
    "b = 4\n",
    "calc = p.line(x=x, y= dphi_calc(x, a, b), line_color=\"#D95B43\", line_width=8, alpha=0.7, legend=\"Calculated\")\n",
    "show(p)"
   ]
  },
  {
   "cell_type": "code",
   "execution_count": null,
   "metadata": {},
   "outputs": [],
   "source": []
  }
 ],
 "metadata": {
  "kernelspec": {
   "display_name": "Python 3",
   "language": "python",
   "name": "python3"
  },
  "language_info": {
   "codemirror_mode": {
    "name": "ipython",
    "version": 3
   },
   "file_extension": ".py",
   "mimetype": "text/x-python",
   "name": "python",
   "nbconvert_exporter": "python",
   "pygments_lexer": "ipython3",
   "version": "3.6.3"
  }
 },
 "nbformat": 4,
 "nbformat_minor": 2
}
