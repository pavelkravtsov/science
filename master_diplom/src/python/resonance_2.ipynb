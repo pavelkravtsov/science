{
 "cells": [
  {
   "cell_type": "markdown",
   "metadata": {},
   "source": [
    "## Постановка задачи ##"
   ]
  },
  {
   "cell_type": "markdown",
   "metadata": {},
   "source": [
    "Есть $\\rho$-мезон, который распадается на два $\\pi$-мезона с импульсами $\\vec p_1$ и $\\vec p_2$.  \n",
    "Пусть $(p_1, \\phi_1, \\theta_1)$ и $(p_2, \\phi_2, \\theta_2)$ - сферические координаты импульсов $\\vec p_1$ и $\\vec p_2$.  \n",
    "Мы хотим найти распределение по углам разлета мезонов $\\rho(\\Delta \\phi, \\Delta \\eta)$, где $\\Delta \\phi = \\phi_1 - \\phi_2$.  \n",
    "Пусть $\\vec r$ - импульс $\\rho$-мезона. $\\vec r = \\vec p_1 + \\vec p_2$.  \n",
    "Выберем оси координат импульс $\\rho$-мезона $\\vec r$ соноправленным с осью $x$.  \n",
    "Мы считаем модуль импульса $\\rho$-мезона фиксированным и известным: $|\\vec r| = R$.  \n",
    "Обозначим массу $\\rho$-мезона $M$, а массу $\\pi$-мезона $m$.  \n"
   ]
  },
  {
   "cell_type": "markdown",
   "metadata": {},
   "source": [
    "## Система отсчета центра масс $\\rho$-мезона ##"
   ]
  },
  {
   "cell_type": "markdown",
   "metadata": {},
   "source": [
    "Импульсы $\\pi$-мезонов в системе отсчета центра масс $\\rho$-мезона равны $\\vec k$ и $-\\vec k$ соответственно.  \n",
    "Мы будем считать направление вектора $\\vec k$ произвольным и распределенным равномерно.  \n",
    "Пусть $\\varepsilon$ - энергия каждого из $\\pi$-мезонов в системе отсчета центра масс.\n",
    "Из закона сохранения энергии  $2\\varepsilon = M$.  \n",
    "Модуль этого вектора $|\\vec k| = K$ выражается через $\\varepsilon$: $K = \\sqrt {\\varepsilon^2 - m^2} = \\sqrt{\\frac{M^2}{4}-m^2}$.  \n",
    "Таким образом в системе отсчета центра масс импульсы всех мезонов:\n",
    "\n",
    "$$\n",
    "\\begin{cases}\n",
    "\\rho-\\text{мезон}:\\ (0, 0, 0) \\\\\n",
    "\\text{первый}\\ \\pi-\\text{мезон}:\\ (k_x, k_y, k_z) \\\\\n",
    "\\text{второй}\\ \\pi-\\text{мезон}:\\ (-k_x, -k_y, -k_z) \\\\\n",
    "\\end{cases}\n",
    "$$"
   ]
  },
  {
   "cell_type": "markdown",
   "metadata": {},
   "source": [
    "В тоже время в лобораторной системе отсчета эти имульсы равны:  \n",
    "\n",
    "\n",
    "$$\n",
    "\\begin{cases}\n",
    "\\rho-\\text{мезон}:\\ (R, 0, 0) \\\\\n",
    "\\text{первый}\\ \\pi-\\text{мезон}:\\ (p_{1x}, p_{1y}, p_{1z}) \\\\\n",
    "\\text{второй}\\ \\pi-\\text{мезон}:\\ (p_{2x}, p_{2y}, p_{2z}) \\\\\n",
    "\\end{cases}\n",
    "$$\n"
   ]
  },
  {
   "cell_type": "markdown",
   "metadata": {},
   "source": [
    "Пусть $V$ - модуль скорости $\\rho$ мезона в лабораторной системе отсчета.  \n",
    "Можно связать импульсы в разных системах отсчета с помощью преобразований Лоренца:\n",
    "\n",
    "$$R = \\frac{VM}{\\sqrt{1 - V^2}}$$\n",
    "  \n",
    "$$\n",
    "\\begin{cases}\n",
    "p_{1x} = \\frac{k_x + V\\varepsilon}{\\sqrt{1 - V^2}} \\\\\n",
    "p_{1y} = k_y \\\\\n",
    "p_{1z} = k_z \\\\\n",
    "\\end{cases}\n",
    "$$\n",
    "  \n",
    "$$\n",
    "\\begin{cases}\n",
    "p_{2x} = \\frac{-k_x + V\\varepsilon}{\\sqrt{1 - V^2}} \\\\\n",
    "p_{2y} = -k_y \\\\\n",
    "p_{2z} = -k_z \\\\\n",
    "\\end{cases}\n",
    "$$\n",
    "\n",
    "Из первого уравнения можно получить модуль скорости: $V = \\sqrt\\frac{R^2}{R^2 + M^2}$ и подставить его в остальные."
   ]
  },
  {
   "cell_type": "markdown",
   "metadata": {},
   "source": [
    "Для вычислений будем использовать переменные\n",
    "$$\n",
    "\\begin{cases}\n",
    "s_x = k_x / K \\\\\n",
    "s_y = k_y / K \\\\\n",
    "s_z = k_z / K. \\\\\n",
    "\\end{cases}\n",
    "$$\n",
    "  \n",
    "Любые две из них являются равномерно распределенными в интервале [-1, 1], а модуль третьей находится из соотношения $s_x^2 + s_y^2 + s_z^2 = 1$.  \n",
    "Выразим декартовы координаты импульсов $\\pi$-мезонов через $s_x, s_y, s_z$:\n",
    "\n",
    "$$\n",
    "\\begin{cases}\n",
    "p_{1x} = \\frac{K s_x \\sqrt{M^2 + R^2} + \\varepsilon R}{M} = K(b + a\\ s_x) \\\\\n",
    "p_{1y} = K s_y \\\\\n",
    "p_{1z} = K s_z \\\\\n",
    "\\end{cases}\n",
    "$$\n",
    "  \n",
    "$$\n",
    "\\begin{cases}\n",
    "p_{2x} = \\frac{-K s_x \\sqrt{M^2 + R^2} + \\varepsilon R}{M} = K(b - a\\ s_x) \\\\\n",
    "p_{2y} = -K s_y \\\\\n",
    "p_{2z} = -K s_z \\\\\n",
    "\\end{cases}\n",
    "$$\n",
    "  \n",
    "Здесь введены обозначения $a = \\frac{\\sqrt{M^2 + R^2}}{M},\\ b=\\frac{R\\varepsilon}{KM}$.  \n",
    "\n",
    "Выразим сферические координаты импульсов $\\pi$-мезонов через $s_x, s_y, s_z$:\n",
    "  \n",
    "$$\n",
    "\\begin{cases}\n",
    "tg\\ \\phi_1 = \\frac{p_{1y}}{p_{1x}} = \\frac{s_y}{b + a\\ s_x} \\\\\n",
    "tg\\ \\phi_2 = \\frac{p_{2y}}{p_{2x}} = -\\frac{s_y}{b - a\\ s_x} \\\\\n",
    "сtg\\ \\theta_1 = \\frac{p_{1z}}{\\sqrt{p_{1y}^2 + p_{1x}^2}} = \\frac{s_z}{\\sqrt{s_y^2 + (b + a\\ s_x)^2}} \\\\\n",
    "сtg\\ \\theta_2 = \\frac{p_{2z}}{\\sqrt{p_{2y}^2 + p_{2x}^2}} = -\\frac{s_z}{\\sqrt{s_y^2 + (b - a\\ s_x)^2}} \\\\\n",
    "\\end{cases}\n",
    "$$"
   ]
  },
  {
   "cell_type": "markdown",
   "metadata": {},
   "source": [
    "Интересующие нас величины\n",
    "$$\\Delta \\phi = \\phi_1 - \\phi_2,$$\n",
    "\n",
    "$$\\Delta \\eta = \\frac{1}{2} ln \\frac{tg\\ (\\theta_1 / 2 )}{tg\\ (\\theta_2 / 2)}$$\n",
    "\n",
    "так же можно выразить через $s_x, s_y, s_z$."
   ]
  },
  {
   "cell_type": "markdown",
   "metadata": {},
   "source": [
    "## План вычислений ##"
   ]
  },
  {
   "cell_type": "markdown",
   "metadata": {},
   "source": [
    "Из трех переменных  $s_x, s_y, s_z$ выберем 2 которые будем считать независимыми, например  $s_x, s_y$.  \n",
    "Возьмем функции $\\Delta \\phi(s_x, s_y),\\ \\Delta \\eta (s_x, s_y)$ и обратим их, то есть найдем $s_x(\\Delta \\phi, \\Delta \\eta),\\ s_y(\\Delta \\phi, \\Delta \\eta)$.  \n",
    "Далее найдем якобиан преобразования от переменных $s_x, s_y$ к переменным $\\Delta \\phi, \\Delta \\eta$\n",
    "$$J(\\Delta \\phi, \\Delta \\eta) = \\frac{\\partial s_x}{\\partial \\Delta \\phi} \\frac{\\partial s_y}{\\partial \\Delta \\eta} - \\frac{\\partial s_x}{\\partial \\Delta \\eta} \\frac{\\partial s_y}{\\partial \\Delta \\phi}$$.  \n",
    "Так как $s_x, s_y$ распределенны равномерно, то искомая плотность распределения $\\rho(\\Delta \\phi, \\Delta \\eta) = J(\\Delta \\phi, \\Delta \\eta)$."
   ]
  },
  {
   "cell_type": "markdown",
   "metadata": {},
   "source": [
    "К сожалению $s_x(\\Delta \\phi, \\Delta \\eta),\\ s_y(\\Delta \\phi, \\Delta \\eta)$ не выражаются в элементарных функциях.  \n",
    "Однако по крайней мере можно найти условные плотности распределения при одной фиксированной переменной $\\rho(\\Delta \\phi, \\Delta \\eta = 0)$ и $\\rho(\\Delta \\phi = 0, \\Delta \\eta)$.  \n",
    "Для этого вместо якобиана потредуется лишь вычислить одну из частных производных $\\frac{\\partial s_x}{\\partial \\Delta \\phi}\\big{|}_{\\Delta \\eta = 0}$ или $\\frac{\\partial s_x}{\\partial \\Delta \\eta}\\big{|}_{\\Delta \\phi = 0}$.  \n",
    "Как мы увидим далее, в этих лучаях либо $s_y = 0$ либо $s_z = 0$."
   ]
  },
  {
   "cell_type": "markdown",
   "metadata": {},
   "source": [
    "## Вычисление $\\rho(\\Delta \\phi, \\Delta \\eta = 0)$ ##"
   ]
  },
  {
   "cell_type": "markdown",
   "metadata": {},
   "source": [
    "Из $\\Delta \\eta = 0$ следует $s_z = 0$.  \n",
    "Тогда $s_y^2 = 1 - s_x^2$.  \n",
    "Для промежуточных вычислений введем переменную $f = \\frac{1}{tg\\ \\Delta \\phi}$.  \n"
   ]
  },
  {
   "cell_type": "markdown",
   "metadata": {},
   "source": [
    "$$\\frac{1}{f} = tg (\\phi_1 - \\phi_2) = \\frac{tg\\ \\phi_1 - tg\\ \\phi_2}{1 + tg\\ \\phi_1 tg\\ \\phi_2} = \\frac{2 s_y b}{b^2 - a^2 s_x^2 - s_y^2}$$\n",
    "\n",
    "$$2 b f s_y = b^2 - a^2 s_x^2 - s_y^2$$\n",
    "\n",
    "$$4 b^2 f^2 (1 - s_x^2) = ((b^2 - 1)  - s_x^2 (a^2 - 1))^2$$\n",
    "\n",
    "$$2 u (1 - s_x^2) = (t - s_x^2)^2$$\n",
    "\n",
    "Здесь $u = \\frac{2 b^2 f^2}{(a^2 - 1)^2}$, $t = \\frac{b^2 - 1}{a^2 - 1}$.\n",
    "\n",
    "$$s_x = \\sqrt{(t - u) \\pm \\sqrt{u (u + 2 - 2t)}}$$"
   ]
  },
  {
   "cell_type": "markdown",
   "metadata": {},
   "source": [
    "$$\\rho (\\Delta \\phi, \\Delta \\eta = 0) = \\frac{\\partial s_x}{\\partial \\Delta \\phi} = \\frac{\\partial s_x}{\\partial u} \\frac{\\partial u}{\\partial f} \\frac{\\partial f}{\\partial \\Delta \\phi}$$\n",
    "\n",
    "$$\\frac{\\partial s_x}{\\partial u} = \\frac{1}{2s_x} \\left(-1 \\pm \\frac{u}{\\sqrt{u(u + 2 - 2t)}}\\right)$$\n",
    "$$ \\frac{\\partial u}{\\partial f} = \\frac{4 b^2 f}{(a^2 - 1)^2} $$\n",
    "$$\\frac{\\partial f}{\\partial \\Delta \\phi} = -\\frac{1}{sin^2\\ \\Delta \\phi }$$"
   ]
  },
  {
   "cell_type": "markdown",
   "metadata": {},
   "source": [
    "Осталось понять какой знак нужен вместо $\\pm$"
   ]
  },
  {
   "cell_type": "markdown",
   "metadata": {},
   "source": [
    "## Вычисление $\\rho(\\Delta \\phi= 0, \\Delta \\eta )$ ##"
   ]
  },
  {
   "cell_type": "markdown",
   "metadata": {},
   "source": [
    "Аналогично рассмотренному выше случаю. Напишу позже."
   ]
  },
  {
   "cell_type": "code",
   "execution_count": 1,
   "metadata": {},
   "outputs": [
    {
     "data": {
      "text/html": [
       "\n",
       "    <div class=\"bk-root\">\n",
       "        <a href=\"https://bokeh.pydata.org\" target=\"_blank\" class=\"bk-logo bk-logo-small bk-logo-notebook\"></a>\n",
       "        <span id=\"58ec8725-55cd-4a98-86f7-76dc6b4c4b7b\">Loading BokehJS ...</span>\n",
       "    </div>"
      ]
     },
     "metadata": {},
     "output_type": "display_data"
    },
    {
     "data": {
      "application/javascript": [
       "\n",
       "(function(root) {\n",
       "  function now() {\n",
       "    return new Date();\n",
       "  }\n",
       "\n",
       "  var force = true;\n",
       "\n",
       "  if (typeof (root._bokeh_onload_callbacks) === \"undefined\" || force === true) {\n",
       "    root._bokeh_onload_callbacks = [];\n",
       "    root._bokeh_is_loading = undefined;\n",
       "  }\n",
       "\n",
       "  var JS_MIME_TYPE = 'application/javascript';\n",
       "  var HTML_MIME_TYPE = 'text/html';\n",
       "  var EXEC_MIME_TYPE = 'application/vnd.bokehjs_exec.v0+json';\n",
       "  var CLASS_NAME = 'output_bokeh rendered_html';\n",
       "\n",
       "  /**\n",
       "   * Render data to the DOM node\n",
       "   */\n",
       "  function render(props, node) {\n",
       "    var script = document.createElement(\"script\");\n",
       "    node.appendChild(script);\n",
       "  }\n",
       "\n",
       "  /**\n",
       "   * Handle when an output is cleared or removed\n",
       "   */\n",
       "  function handleClearOutput(event, handle) {\n",
       "    var cell = handle.cell;\n",
       "\n",
       "    var id = cell.output_area._bokeh_element_id;\n",
       "    var server_id = cell.output_area._bokeh_server_id;\n",
       "    // Clean up Bokeh references\n",
       "    if (id !== undefined) {\n",
       "      Bokeh.index[id].model.document.clear();\n",
       "      delete Bokeh.index[id];\n",
       "    }\n",
       "\n",
       "    if (server_id !== undefined) {\n",
       "      // Clean up Bokeh references\n",
       "      var cmd = \"from bokeh.io.state import curstate; print(curstate().uuid_to_server['\" + server_id + \"'].get_sessions()[0].document.roots[0]._id)\";\n",
       "      cell.notebook.kernel.execute(cmd, {\n",
       "        iopub: {\n",
       "          output: function(msg) {\n",
       "            var element_id = msg.content.text.trim();\n",
       "            Bokeh.index[element_id].model.document.clear();\n",
       "            delete Bokeh.index[element_id];\n",
       "          }\n",
       "        }\n",
       "      });\n",
       "      // Destroy server and session\n",
       "      var cmd = \"import bokeh.io.notebook as ion; ion.destroy_server('\" + server_id + \"')\";\n",
       "      cell.notebook.kernel.execute(cmd);\n",
       "    }\n",
       "  }\n",
       "\n",
       "  /**\n",
       "   * Handle when a new output is added\n",
       "   */\n",
       "  function handleAddOutput(event, handle) {\n",
       "    var output_area = handle.output_area;\n",
       "    var output = handle.output;\n",
       "\n",
       "    // limit handleAddOutput to display_data with EXEC_MIME_TYPE content only\n",
       "    if ((output.output_type != \"display_data\") || (!output.data.hasOwnProperty(EXEC_MIME_TYPE))) {\n",
       "      return\n",
       "    }\n",
       "\n",
       "    var toinsert = output_area.element.find(`.${CLASS_NAME.split(' ')[0]}`);\n",
       "\n",
       "    if (output.metadata[EXEC_MIME_TYPE][\"id\"] !== undefined) {\n",
       "      toinsert[0].firstChild.textContent = output.data[JS_MIME_TYPE];\n",
       "      // store reference to embed id on output_area\n",
       "      output_area._bokeh_element_id = output.metadata[EXEC_MIME_TYPE][\"id\"];\n",
       "    }\n",
       "    if (output.metadata[EXEC_MIME_TYPE][\"server_id\"] !== undefined) {\n",
       "      var bk_div = document.createElement(\"div\");\n",
       "      bk_div.innerHTML = output.data[HTML_MIME_TYPE];\n",
       "      var script_attrs = bk_div.children[0].attributes;\n",
       "      for (var i = 0; i < script_attrs.length; i++) {\n",
       "        toinsert[0].firstChild.setAttribute(script_attrs[i].name, script_attrs[i].value);\n",
       "      }\n",
       "      // store reference to server id on output_area\n",
       "      output_area._bokeh_server_id = output.metadata[EXEC_MIME_TYPE][\"server_id\"];\n",
       "    }\n",
       "  }\n",
       "\n",
       "  function register_renderer(events, OutputArea) {\n",
       "\n",
       "    function append_mime(data, metadata, element) {\n",
       "      // create a DOM node to render to\n",
       "      var toinsert = this.create_output_subarea(\n",
       "        metadata,\n",
       "        CLASS_NAME,\n",
       "        EXEC_MIME_TYPE\n",
       "      );\n",
       "      this.keyboard_manager.register_events(toinsert);\n",
       "      // Render to node\n",
       "      var props = {data: data, metadata: metadata[EXEC_MIME_TYPE]};\n",
       "      render(props, toinsert[0]);\n",
       "      element.append(toinsert);\n",
       "      return toinsert\n",
       "    }\n",
       "\n",
       "    /* Handle when an output is cleared or removed */\n",
       "    events.on('clear_output.CodeCell', handleClearOutput);\n",
       "    events.on('delete.Cell', handleClearOutput);\n",
       "\n",
       "    /* Handle when a new output is added */\n",
       "    events.on('output_added.OutputArea', handleAddOutput);\n",
       "\n",
       "    /**\n",
       "     * Register the mime type and append_mime function with output_area\n",
       "     */\n",
       "    OutputArea.prototype.register_mime_type(EXEC_MIME_TYPE, append_mime, {\n",
       "      /* Is output safe? */\n",
       "      safe: true,\n",
       "      /* Index of renderer in `output_area.display_order` */\n",
       "      index: 0\n",
       "    });\n",
       "  }\n",
       "\n",
       "  // register the mime type if in Jupyter Notebook environment and previously unregistered\n",
       "  if (root.Jupyter !== undefined) {\n",
       "    var events = require('base/js/events');\n",
       "    var OutputArea = require('notebook/js/outputarea').OutputArea;\n",
       "\n",
       "    if (OutputArea.prototype.mime_types().indexOf(EXEC_MIME_TYPE) == -1) {\n",
       "      register_renderer(events, OutputArea);\n",
       "    }\n",
       "  }\n",
       "\n",
       "  \n",
       "  if (typeof (root._bokeh_timeout) === \"undefined\" || force === true) {\n",
       "    root._bokeh_timeout = Date.now() + 5000;\n",
       "    root._bokeh_failed_load = false;\n",
       "  }\n",
       "\n",
       "  var NB_LOAD_WARNING = {'data': {'text/html':\n",
       "     \"<div style='background-color: #fdd'>\\n\"+\n",
       "     \"<p>\\n\"+\n",
       "     \"BokehJS does not appear to have successfully loaded. If loading BokehJS from CDN, this \\n\"+\n",
       "     \"may be due to a slow or bad network connection. Possible fixes:\\n\"+\n",
       "     \"</p>\\n\"+\n",
       "     \"<ul>\\n\"+\n",
       "     \"<li>re-rerun `output_notebook()` to attempt to load from CDN again, or</li>\\n\"+\n",
       "     \"<li>use INLINE resources instead, as so:</li>\\n\"+\n",
       "     \"</ul>\\n\"+\n",
       "     \"<code>\\n\"+\n",
       "     \"from bokeh.resources import INLINE\\n\"+\n",
       "     \"output_notebook(resources=INLINE)\\n\"+\n",
       "     \"</code>\\n\"+\n",
       "     \"</div>\"}};\n",
       "\n",
       "  function display_loaded() {\n",
       "    var el = document.getElementById(\"58ec8725-55cd-4a98-86f7-76dc6b4c4b7b\");\n",
       "    if (el != null) {\n",
       "      el.textContent = \"BokehJS is loading...\";\n",
       "    }\n",
       "    if (root.Bokeh !== undefined) {\n",
       "      if (el != null) {\n",
       "        el.textContent = \"BokehJS \" + root.Bokeh.version + \" successfully loaded.\";\n",
       "      }\n",
       "    } else if (Date.now() < root._bokeh_timeout) {\n",
       "      setTimeout(display_loaded, 100)\n",
       "    }\n",
       "  }\n",
       "\n",
       "\n",
       "  function run_callbacks() {\n",
       "    try {\n",
       "      root._bokeh_onload_callbacks.forEach(function(callback) { callback() });\n",
       "    }\n",
       "    finally {\n",
       "      delete root._bokeh_onload_callbacks\n",
       "    }\n",
       "    console.info(\"Bokeh: all callbacks have finished\");\n",
       "  }\n",
       "\n",
       "  function load_libs(js_urls, callback) {\n",
       "    root._bokeh_onload_callbacks.push(callback);\n",
       "    if (root._bokeh_is_loading > 0) {\n",
       "      console.log(\"Bokeh: BokehJS is being loaded, scheduling callback at\", now());\n",
       "      return null;\n",
       "    }\n",
       "    if (js_urls == null || js_urls.length === 0) {\n",
       "      run_callbacks();\n",
       "      return null;\n",
       "    }\n",
       "    console.log(\"Bokeh: BokehJS not loaded, scheduling load and callback at\", now());\n",
       "    root._bokeh_is_loading = js_urls.length;\n",
       "    for (var i = 0; i < js_urls.length; i++) {\n",
       "      var url = js_urls[i];\n",
       "      var s = document.createElement('script');\n",
       "      s.src = url;\n",
       "      s.async = false;\n",
       "      s.onreadystatechange = s.onload = function() {\n",
       "        root._bokeh_is_loading--;\n",
       "        if (root._bokeh_is_loading === 0) {\n",
       "          console.log(\"Bokeh: all BokehJS libraries loaded\");\n",
       "          run_callbacks()\n",
       "        }\n",
       "      };\n",
       "      s.onerror = function() {\n",
       "        console.warn(\"failed to load library \" + url);\n",
       "      };\n",
       "      console.log(\"Bokeh: injecting script tag for BokehJS library: \", url);\n",
       "      document.getElementsByTagName(\"head\")[0].appendChild(s);\n",
       "    }\n",
       "  };var element = document.getElementById(\"58ec8725-55cd-4a98-86f7-76dc6b4c4b7b\");\n",
       "  if (element == null) {\n",
       "    console.log(\"Bokeh: ERROR: autoload.js configured with elementid '58ec8725-55cd-4a98-86f7-76dc6b4c4b7b' but no matching script tag was found. \")\n",
       "    return false;\n",
       "  }\n",
       "\n",
       "  var js_urls = [\"https://cdn.pydata.org/bokeh/release/bokeh-0.12.10.min.js\", \"https://cdn.pydata.org/bokeh/release/bokeh-widgets-0.12.10.min.js\", \"https://cdn.pydata.org/bokeh/release/bokeh-tables-0.12.10.min.js\", \"https://cdn.pydata.org/bokeh/release/bokeh-gl-0.12.10.min.js\"];\n",
       "\n",
       "  var inline_js = [\n",
       "    function(Bokeh) {\n",
       "      Bokeh.set_log_level(\"info\");\n",
       "    },\n",
       "    \n",
       "    function(Bokeh) {\n",
       "      \n",
       "    },\n",
       "    function(Bokeh) {\n",
       "      console.log(\"Bokeh: injecting CSS: https://cdn.pydata.org/bokeh/release/bokeh-0.12.10.min.css\");\n",
       "      Bokeh.embed.inject_css(\"https://cdn.pydata.org/bokeh/release/bokeh-0.12.10.min.css\");\n",
       "      console.log(\"Bokeh: injecting CSS: https://cdn.pydata.org/bokeh/release/bokeh-widgets-0.12.10.min.css\");\n",
       "      Bokeh.embed.inject_css(\"https://cdn.pydata.org/bokeh/release/bokeh-widgets-0.12.10.min.css\");\n",
       "      console.log(\"Bokeh: injecting CSS: https://cdn.pydata.org/bokeh/release/bokeh-tables-0.12.10.min.css\");\n",
       "      Bokeh.embed.inject_css(\"https://cdn.pydata.org/bokeh/release/bokeh-tables-0.12.10.min.css\");\n",
       "    }\n",
       "  ];\n",
       "\n",
       "  function run_inline_js() {\n",
       "    \n",
       "    if ((root.Bokeh !== undefined) || (force === true)) {\n",
       "      for (var i = 0; i < inline_js.length; i++) {\n",
       "        inline_js[i].call(root, root.Bokeh);\n",
       "      }if (force === true) {\n",
       "        display_loaded();\n",
       "      }} else if (Date.now() < root._bokeh_timeout) {\n",
       "      setTimeout(run_inline_js, 100);\n",
       "    } else if (!root._bokeh_failed_load) {\n",
       "      console.log(\"Bokeh: BokehJS failed to load within specified timeout.\");\n",
       "      root._bokeh_failed_load = true;\n",
       "    } else if (force !== true) {\n",
       "      var cell = $(document.getElementById(\"58ec8725-55cd-4a98-86f7-76dc6b4c4b7b\")).parents('.cell').data().cell;\n",
       "      cell.output_area.append_execute_result(NB_LOAD_WARNING)\n",
       "    }\n",
       "\n",
       "  }\n",
       "\n",
       "  if (root._bokeh_is_loading === 0) {\n",
       "    console.log(\"Bokeh: BokehJS loaded, going straight to plotting\");\n",
       "    run_inline_js();\n",
       "  } else {\n",
       "    load_libs(js_urls, function() {\n",
       "      console.log(\"Bokeh: BokehJS plotting callback run at\", now());\n",
       "      run_inline_js();\n",
       "    });\n",
       "  }\n",
       "}(window));"
      ],
      "application/vnd.bokehjs_load.v0+json": "\n(function(root) {\n  function now() {\n    return new Date();\n  }\n\n  var force = true;\n\n  if (typeof (root._bokeh_onload_callbacks) === \"undefined\" || force === true) {\n    root._bokeh_onload_callbacks = [];\n    root._bokeh_is_loading = undefined;\n  }\n\n  \n\n  \n  if (typeof (root._bokeh_timeout) === \"undefined\" || force === true) {\n    root._bokeh_timeout = Date.now() + 5000;\n    root._bokeh_failed_load = false;\n  }\n\n  var NB_LOAD_WARNING = {'data': {'text/html':\n     \"<div style='background-color: #fdd'>\\n\"+\n     \"<p>\\n\"+\n     \"BokehJS does not appear to have successfully loaded. If loading BokehJS from CDN, this \\n\"+\n     \"may be due to a slow or bad network connection. Possible fixes:\\n\"+\n     \"</p>\\n\"+\n     \"<ul>\\n\"+\n     \"<li>re-rerun `output_notebook()` to attempt to load from CDN again, or</li>\\n\"+\n     \"<li>use INLINE resources instead, as so:</li>\\n\"+\n     \"</ul>\\n\"+\n     \"<code>\\n\"+\n     \"from bokeh.resources import INLINE\\n\"+\n     \"output_notebook(resources=INLINE)\\n\"+\n     \"</code>\\n\"+\n     \"</div>\"}};\n\n  function display_loaded() {\n    var el = document.getElementById(\"58ec8725-55cd-4a98-86f7-76dc6b4c4b7b\");\n    if (el != null) {\n      el.textContent = \"BokehJS is loading...\";\n    }\n    if (root.Bokeh !== undefined) {\n      if (el != null) {\n        el.textContent = \"BokehJS \" + root.Bokeh.version + \" successfully loaded.\";\n      }\n    } else if (Date.now() < root._bokeh_timeout) {\n      setTimeout(display_loaded, 100)\n    }\n  }\n\n\n  function run_callbacks() {\n    try {\n      root._bokeh_onload_callbacks.forEach(function(callback) { callback() });\n    }\n    finally {\n      delete root._bokeh_onload_callbacks\n    }\n    console.info(\"Bokeh: all callbacks have finished\");\n  }\n\n  function load_libs(js_urls, callback) {\n    root._bokeh_onload_callbacks.push(callback);\n    if (root._bokeh_is_loading > 0) {\n      console.log(\"Bokeh: BokehJS is being loaded, scheduling callback at\", now());\n      return null;\n    }\n    if (js_urls == null || js_urls.length === 0) {\n      run_callbacks();\n      return null;\n    }\n    console.log(\"Bokeh: BokehJS not loaded, scheduling load and callback at\", now());\n    root._bokeh_is_loading = js_urls.length;\n    for (var i = 0; i < js_urls.length; i++) {\n      var url = js_urls[i];\n      var s = document.createElement('script');\n      s.src = url;\n      s.async = false;\n      s.onreadystatechange = s.onload = function() {\n        root._bokeh_is_loading--;\n        if (root._bokeh_is_loading === 0) {\n          console.log(\"Bokeh: all BokehJS libraries loaded\");\n          run_callbacks()\n        }\n      };\n      s.onerror = function() {\n        console.warn(\"failed to load library \" + url);\n      };\n      console.log(\"Bokeh: injecting script tag for BokehJS library: \", url);\n      document.getElementsByTagName(\"head\")[0].appendChild(s);\n    }\n  };var element = document.getElementById(\"58ec8725-55cd-4a98-86f7-76dc6b4c4b7b\");\n  if (element == null) {\n    console.log(\"Bokeh: ERROR: autoload.js configured with elementid '58ec8725-55cd-4a98-86f7-76dc6b4c4b7b' but no matching script tag was found. \")\n    return false;\n  }\n\n  var js_urls = [\"https://cdn.pydata.org/bokeh/release/bokeh-0.12.10.min.js\", \"https://cdn.pydata.org/bokeh/release/bokeh-widgets-0.12.10.min.js\", \"https://cdn.pydata.org/bokeh/release/bokeh-tables-0.12.10.min.js\", \"https://cdn.pydata.org/bokeh/release/bokeh-gl-0.12.10.min.js\"];\n\n  var inline_js = [\n    function(Bokeh) {\n      Bokeh.set_log_level(\"info\");\n    },\n    \n    function(Bokeh) {\n      \n    },\n    function(Bokeh) {\n      console.log(\"Bokeh: injecting CSS: https://cdn.pydata.org/bokeh/release/bokeh-0.12.10.min.css\");\n      Bokeh.embed.inject_css(\"https://cdn.pydata.org/bokeh/release/bokeh-0.12.10.min.css\");\n      console.log(\"Bokeh: injecting CSS: https://cdn.pydata.org/bokeh/release/bokeh-widgets-0.12.10.min.css\");\n      Bokeh.embed.inject_css(\"https://cdn.pydata.org/bokeh/release/bokeh-widgets-0.12.10.min.css\");\n      console.log(\"Bokeh: injecting CSS: https://cdn.pydata.org/bokeh/release/bokeh-tables-0.12.10.min.css\");\n      Bokeh.embed.inject_css(\"https://cdn.pydata.org/bokeh/release/bokeh-tables-0.12.10.min.css\");\n    }\n  ];\n\n  function run_inline_js() {\n    \n    if ((root.Bokeh !== undefined) || (force === true)) {\n      for (var i = 0; i < inline_js.length; i++) {\n        inline_js[i].call(root, root.Bokeh);\n      }if (force === true) {\n        display_loaded();\n      }} else if (Date.now() < root._bokeh_timeout) {\n      setTimeout(run_inline_js, 100);\n    } else if (!root._bokeh_failed_load) {\n      console.log(\"Bokeh: BokehJS failed to load within specified timeout.\");\n      root._bokeh_failed_load = true;\n    } else if (force !== true) {\n      var cell = $(document.getElementById(\"58ec8725-55cd-4a98-86f7-76dc6b4c4b7b\")).parents('.cell').data().cell;\n      cell.output_area.append_execute_result(NB_LOAD_WARNING)\n    }\n\n  }\n\n  if (root._bokeh_is_loading === 0) {\n    console.log(\"Bokeh: BokehJS loaded, going straight to plotting\");\n    run_inline_js();\n  } else {\n    load_libs(js_urls, function() {\n      console.log(\"Bokeh: BokehJS plotting callback run at\", now());\n      run_inline_js();\n    });\n  }\n}(window));"
     },
     "metadata": {},
     "output_type": "display_data"
    }
   ],
   "source": [
    "from math import *\n",
    "from random import *\n",
    "import numpy as np\n",
    "import matplotlib.pyplot as plt\n",
    "from ipywidgets import interact\n",
    "from bokeh.models import ColumnDataSource\n",
    "\n",
    "from bokeh.io import push_notebook, show, output_notebook\n",
    "from bokeh.plotting import figure\n",
    "output_notebook()"
   ]
  },
  {
   "cell_type": "code",
   "execution_count": 2,
   "metadata": {},
   "outputs": [],
   "source": [
    "def cut(x, c=1):\n",
    "    return np.min([x, c * np.ones(x.shape)], axis=0)\n",
    "\n",
    "def norm(x, c=100):\n",
    "    res = x\n",
    "    #res = np.array(list(filter(lambda x: x < c and x > -c, x)))\n",
    "    return res / np.sum(res)\n",
    "\n",
    "def dphi_calc(dphi, a, b, sign = +1):\n",
    "    f = 1 / np.tan(dphi)\n",
    "    sin = np.sin(dphi)\n",
    "    df_ddphi = - 1 / (sin * sin)\n",
    "    \n",
    "    c1 = (a * a - 1)\n",
    "    u = (2 * b * b * f * f) / (c1 * c1)\n",
    "    t = (b * b - 1) / c1\n",
    "    du_df = 4 * b * b * f / (c1 * c1)\n",
    "    \n",
    "    sx = np.sqrt((t - u) + sign * np.sqrt(u * (u + 2 - 2 * t)))\n",
    "    dsx_du = (0.5 / sx) * (-1 + sign * (u / np.sqrt(u * (u + 2 - 2 * t))))\n",
    "    res = (dsx_du * du_df * df_ddphi)\n",
    "    return cut(norm(res), 0.001)"
   ]
  },
  {
   "cell_type": "markdown",
   "metadata": {},
   "source": [
    "## Моделирование методом Монте-Карло ##"
   ]
  },
  {
   "cell_type": "code",
   "execution_count": 3,
   "metadata": {},
   "outputs": [],
   "source": [
    "k = 1\n",
    "N = 100000"
   ]
  },
  {
   "cell_type": "code",
   "execution_count": 4,
   "metadata": {},
   "outputs": [],
   "source": [
    "def dphi_gen(a, b):\n",
    "    kx = (2 * np.random.random(N) - 1) * k\n",
    "    ky = np.sqrt(k * k - kx * kx)\n",
    "    kz = 0\n",
    "    \n",
    "    p1x = a * kx + b\n",
    "    p2x = a * kx - b\n",
    "    \n",
    "    tgf1 = ky / p1x\n",
    "    tgf2 = - ky / p2x\n",
    "    \n",
    "    tgdf = (tgf1 - tgf2) / (1 + tgf1 * tgf2)\n",
    "    return np.arctan(tgdf)"
   ]
  },
  {
   "cell_type": "code",
   "execution_count": 5,
   "metadata": {},
   "outputs": [],
   "source": [
    "def dtheta_gen(a, b):\n",
    "    kx = (2 * np.random.random(N) - 1) * k\n",
    "    ky = 0\n",
    "    kz = np.sqrt(k * k - kx * kx) * np.random.choice([-1,1], N)\n",
    "    \n",
    "    p1x = a * kx + b\n",
    "    p2x = a * kx - b\n",
    "    \n",
    "    theta1 = np.arctan(kz / (ky * ky + p1x * p1x))\n",
    "    theta2 = np.arctan(-kz / (ky * ky + p2x * p2x))\n",
    "    \n",
    "    dn = 0.5 * np.log(np.tan((np.pi / 2 - theta1) / 2)/ (np.tan((np.pi / 2 - theta2) / 2)))\n",
    "    return np.array(list(filter(lambda x: x < 3 and x > -3, dn)))   "
   ]
  },
  {
   "cell_type": "code",
   "execution_count": 8,
   "metadata": {},
   "outputs": [],
   "source": [
    "def present(f_gen, f_calc, title = \"\", a = 7, b = 4, l = 0.1, r = 1):\n",
    "    p = figure(title=title, plot_height=400, plot_width=900)\n",
    "    \n",
    "    hist, edges = np.histogram(f_gen(a, b), density=True,normed=True, bins=100)\n",
    "    gen = p.quad(top=hist, bottom=0, left=edges[:-1], right=edges[1:], fill_color=\"#036564\", line_color=\"#033649\", legend=\"Monte-Carlo\")\n",
    "    \n",
    "    m = 1000 / (r - l)\n",
    "    x = np.linspace(l, r, 1000)\n",
    "    #calc = p.line(x=x, y= m * f_calc(x, a, b), line_color=\"#D95B43\", line_width=8, alpha=0.7, legend=\"Calculated\")\n",
    "\n",
    "    def update(a = 7, b = 4):\n",
    "        hist, edges = np.histogram(f_gen(a, b), density=True, normed=True, bins=100)\n",
    "        gen.data_source.data['top'] = hist\n",
    "        #calc.data_source.data['y'] = m * f_calc(x, a, b)\n",
    "        \n",
    "        push_notebook()\n",
    "\n",
    "    show(p, notebook_handle=True)\n",
    "    interact(update, a=(0.1,10, 0.1), b=(0.1, 10, 0.1))"
   ]
  },
  {
   "cell_type": "code",
   "execution_count": 9,
   "metadata": {},
   "outputs": [
    {
     "data": {
      "text/html": [
       "\n",
       "<div class=\"bk-root\">\n",
       "    <div class=\"bk-plotdiv\" id=\"fb01ebf7-f889-4d0e-a0f1-079b349194c4\"></div>\n",
       "</div>"
      ]
     },
     "metadata": {},
     "output_type": "display_data"
    },
    {
     "data": {
      "application/javascript": [
       "(function(root) {\n",
       "  function embed_document(root) {\n",
       "    var docs_json = {\"95cd0cf4-76ff-4e50-9929-3852d5e27f9e\":{\"roots\":{\"references\":[{\"attributes\":{},\"id\":\"4e93d0b9-a84b-4303-a622-b2978b5653af\",\"type\":\"BasicTicker\"},{\"attributes\":{\"formatter\":{\"id\":\"164af10c-76f4-4427-b4e0-43eb912a12a2\",\"type\":\"BasicTickFormatter\"},\"plot\":{\"id\":\"4bf699ee-c4a9-4bf5-8c47-002890489501\",\"subtype\":\"Figure\",\"type\":\"Plot\"},\"ticker\":{\"id\":\"9e151b67-3b51-419b-81dd-3fd951383478\",\"type\":\"BasicTicker\"}},\"id\":\"b7931f67-1e31-4adc-8223-b476e5795a9d\",\"type\":\"LinearAxis\"},{\"attributes\":{},\"id\":\"2c288ae2-8251-4866-8d69-d5fdb6a3f3f7\",\"type\":\"BasicTickFormatter\"},{\"attributes\":{\"below\":[{\"id\":\"829cb64f-db62-4fb8-99a1-47887138fc19\",\"type\":\"LinearAxis\"}],\"left\":[{\"id\":\"b7931f67-1e31-4adc-8223-b476e5795a9d\",\"type\":\"LinearAxis\"}],\"plot_height\":400,\"plot_width\":900,\"renderers\":[{\"id\":\"829cb64f-db62-4fb8-99a1-47887138fc19\",\"type\":\"LinearAxis\"},{\"id\":\"fb62788c-3f40-484a-ae7f-7d343aca59a7\",\"type\":\"Grid\"},{\"id\":\"b7931f67-1e31-4adc-8223-b476e5795a9d\",\"type\":\"LinearAxis\"},{\"id\":\"60bc0596-25ff-4503-873b-c53bdb96c08f\",\"type\":\"Grid\"},{\"id\":\"697ef72e-2d13-46d6-98c2-46ffd9321e89\",\"type\":\"BoxAnnotation\"},{\"id\":\"7a5cd033-28e1-4185-8383-be88ea3894b8\",\"type\":\"Legend\"},{\"id\":\"6c4dd6b6-573f-40c9-ab40-74c50d52c884\",\"type\":\"GlyphRenderer\"}],\"title\":{\"id\":\"228c9542-9506-4865-b10b-4c7069ec9219\",\"type\":\"Title\"},\"toolbar\":{\"id\":\"a63ccce2-dc16-4331-8a7b-b2a04993fb21\",\"type\":\"Toolbar\"},\"x_range\":{\"id\":\"1e11c9b1-20fb-42db-a974-9475d15315e4\",\"type\":\"DataRange1d\"},\"x_scale\":{\"id\":\"393787c6-d104-48c1-aacc-c56d53f557aa\",\"type\":\"LinearScale\"},\"y_range\":{\"id\":\"1b9ce2ac-2251-487d-a7ef-66d2df77ad6e\",\"type\":\"DataRange1d\"},\"y_scale\":{\"id\":\"ed5fd986-0226-4c52-a7df-1f37d9679fff\",\"type\":\"LinearScale\"}},\"id\":\"4bf699ee-c4a9-4bf5-8c47-002890489501\",\"subtype\":\"Figure\",\"type\":\"Plot\"},{\"attributes\":{\"bottom\":{\"value\":0},\"fill_color\":{\"value\":\"#036564\"},\"left\":{\"field\":\"left\"},\"line_color\":{\"value\":\"#033649\"},\"right\":{\"field\":\"right\"},\"top\":{\"field\":\"top\"}},\"id\":\"b8c3d525-336c-40a0-a2f5-ef12551de8f8\",\"type\":\"Quad\"},{\"attributes\":{},\"id\":\"b3d4b7d9-3e12-4afd-8ac1-fe47222e8eb1\",\"type\":\"PanTool\"},{\"attributes\":{\"bottom\":{\"value\":0},\"fill_alpha\":{\"value\":0.1},\"fill_color\":{\"value\":\"#1f77b4\"},\"left\":{\"field\":\"left\"},\"line_alpha\":{\"value\":0.1},\"line_color\":{\"value\":\"#1f77b4\"},\"right\":{\"field\":\"right\"},\"top\":{\"field\":\"top\"}},\"id\":\"f6041057-b9c1-4ba5-828e-b9857f1090a7\",\"type\":\"Quad\"},{\"attributes\":{\"formatter\":{\"id\":\"2c288ae2-8251-4866-8d69-d5fdb6a3f3f7\",\"type\":\"BasicTickFormatter\"},\"plot\":{\"id\":\"4bf699ee-c4a9-4bf5-8c47-002890489501\",\"subtype\":\"Figure\",\"type\":\"Plot\"},\"ticker\":{\"id\":\"4e93d0b9-a84b-4303-a622-b2978b5653af\",\"type\":\"BasicTicker\"}},\"id\":\"829cb64f-db62-4fb8-99a1-47887138fc19\",\"type\":\"LinearAxis\"},{\"attributes\":{},\"id\":\"6c9dac3d-215d-4b49-bf80-50a175e2b560\",\"type\":\"WheelZoomTool\"},{\"attributes\":{\"plot\":null,\"text\":\"\\\\Delta \\\\phi\"},\"id\":\"228c9542-9506-4865-b10b-4c7069ec9219\",\"type\":\"Title\"},{\"attributes\":{\"data_source\":{\"id\":\"287d4eb0-6786-4606-a8a4-cf0379cc6b88\",\"type\":\"ColumnDataSource\"},\"glyph\":{\"id\":\"b8c3d525-336c-40a0-a2f5-ef12551de8f8\",\"type\":\"Quad\"},\"hover_glyph\":null,\"muted_glyph\":null,\"nonselection_glyph\":{\"id\":\"f6041057-b9c1-4ba5-828e-b9857f1090a7\",\"type\":\"Quad\"},\"selection_glyph\":null,\"view\":{\"id\":\"8b8f6c35-bbef-4a3d-a168-e319e2015f65\",\"type\":\"CDSView\"}},\"id\":\"6c4dd6b6-573f-40c9-ab40-74c50d52c884\",\"type\":\"GlyphRenderer\"},{\"attributes\":{\"overlay\":{\"id\":\"697ef72e-2d13-46d6-98c2-46ffd9321e89\",\"type\":\"BoxAnnotation\"}},\"id\":\"a1422591-f3dc-4cac-8753-2e3c96e7a839\",\"type\":\"BoxZoomTool\"},{\"attributes\":{\"callback\":null,\"column_names\":[\"left\",\"right\",\"top\"],\"data\":{\"left\":{\"__ndarray__\":\"L6eiGZ8h+b8Wmqa286D4v/2MqlNIIPi/5H+u8Jyf97/LcrKN8R73v7JltipGnva/mVi6x5od9r+AS75k75z1v2c+wgFEHPW/TjHGnpib9L81JMo77Rr0vxwXzthBmvO/AwrSdZYZ87/q/NUS65jyv9Hv2a8/GPK/uOLdTJSX8b+f1eHp6Bbxv4bI5YY9lvC/bbvpI5IV8L+oXNuBzSnvv3ZC47t2KO6/RCjr9R8n7b8SDvMvySXsv+Dz+mlyJOu/rtkCpBsj6r98vwrexCHpv0qlEhhuIOi/GIsaUhcf57/mcCKMwB3mv7RWKsZpHOW/gjwyABMb5L9QIjo6vBnjvx4IQnRlGOK/7O1Jrg4X4b+601HotxXgvxBzs0TCKN6/rD7DuBQm3L9ICtMsZyPav+TV4qC5INi/gKHyFAwe1r8cbQKJXhvUv7g4Ev2wGNK/VAQicQMW0L/gn2PKqybMvxg3g7JQIci/UM6imvUbxL+IZcKCmhbAv4D5w9V+Iri/8CcDpsgXsL/ArITsJBqgvwCAJgw04gK/gJl+0rMQoD9QHgAZEBOwP+DvwEjGHbg/uOBAPD4UwD+ASSFUmRnEP0iyAWz0Hsg/EBvig08kzD/sQeFN1RTQP1B20dmCF9I/tKrBZTAa1D8Y37Hx3RzWP3wTon2LH9g/4EeSCTki2j9EfIKV5iTcP6SwciGUJ94/hnKx1iAV4D+6jKmcdxbhP+qmoWLOF+I/GsGZKCUZ4z9O25HuexrkP4L1ibTSG+U/sg+Ceikd5j/iKXpAgB7nPxZEcgbXH+g/Sl5qzC0h6T96eGKShCLqP6qSWljbI+s/3qxSHjIl7D8Sx0rkiCbtP0LhQqrfJ+4/cvs6cDYp7z/TihmbRhXwP+2XFf7xlfA/BaURYZ0W8T8dsg3ESJfxPze/CSf0F/I/UcwFip+Y8j9p2QHtShnzP4Hm/U/2mfM/m/P5sqEa9D+1APYVTZv0P80N8nj4G/U/5Rru26Oc9T//J+o+Tx32Pxk15qH6nfY/MULiBKYe9z9JT95nUZ/3P2Nc2sr8H/g/fWnWLaig+D8=\",\"dtype\":\"float64\",\"shape\":[100]},\"right\":{\"__ndarray__\":\"FpqmtvOg+L/9jKpTSCD4v+R/rvCcn/e/y3KyjfEe97+yZbYqRp72v5lYuseaHfa/gEu+ZO+c9b9nPsIBRBz1v04xxp6Ym/S/NSTKO+0a9L8cF87YQZrzvwMK0nWWGfO/6vzVEuuY8r/R79mvPxjyv7ji3UyUl/G/n9Xh6egW8b+GyOWGPZbwv2276SOSFfC/qFzbgc0p7792QuO7dijuv0Qo6/UfJ+2/Eg7zL8kl7L/g8/ppciTrv67ZAqQbI+q/fL8K3sQh6b9KpRIYbiDovxiLGlIXH+e/5nAijMAd5r+0VirGaRzlv4I8MgATG+S/UCI6OrwZ478eCEJ0ZRjiv+ztSa4OF+G/utNR6LcV4L8Qc7NEwijev6w+w7gUJty/SArTLGcj2r/k1eKguSDYv4Ch8hQMHta/HG0CiV4b1L+4OBL9sBjSv1QEInEDFtC/4J9jyqsmzL8YN4OyUCHIv1DOopr1G8S/iGXCgpoWwL+A+cPVfiK4v/AnA6bIF7C/wKyE7CQaoL8AgCYMNOICv4CZftKzEKA/UB4AGRATsD/g78BIxh24P7jgQDw+FMA/gEkhVJkZxD9IsgFs9B7IPxAb4oNPJMw/7EHhTdUU0D9QdtHZghfSP7SqwWUwGtQ/GN+x8d0c1j98E6J9ix/YP+BHkgk5Ito/RHyCleYk3D+ksHIhlCfeP4ZysdYgFeA/uoypnHcW4T/qpqFizhfiPxrBmSglGeM/TtuR7nsa5D+C9Ym00hvlP7IPgnopHeY/4il6QIAe5z8WRHIG1x/oP0peaswtIek/enhikoQi6j+qklpY2yPrP96sUh4yJew/EsdK5Igm7T9C4UKq3yfuP3L7OnA2Ke8/04oZm0YV8D/tlxX+8ZXwPwWlEWGdFvE/HbINxEiX8T83vwkn9BfyP1HMBYqfmPI/adkB7UoZ8z+B5v1P9pnzP5vz+bKhGvQ/tQD2FU2b9D/NDfJ4+Bv1P+Ua7tujnPU//yfqPk8d9j8ZNeah+p32PzFC4gSmHvc/SU/eZ1Gf9z9jXNrK/B/4P31p1i2ooPg/lXbSkFMh+T8=\",\"dtype\":\"float64\",\"shape\":[100]},\"top\":{\"__ndarray__\":\"2ODeQKF2uz91/ezHHVy8P1Pp7XYGYL8/H/u89ca+vT8qkZMPOhK+PyqRkw86Er4/VzTZA8CJvz+7F8t8Q6S+Pxqw0WgNlb0/xq2hlrb3vj/8TekLe0zAP3qoc0WeN8A/tyx74FAswj/Daw/8ooDAP6dLuTkkr8E/0KMTofD8wj8UHMTKOxzDP5DNkAKABsU/2JAsuYRPxT+z2v/ckirGP4DszltTicQ/NykzpU5AxD/X5263pU7HPwBAyR5ynMg/pvKtv2HVyT83eeUsa2fKP20JRDmFMc4/c1Qvxj5bzj/vrrn/YUbOPyggmLqTr9A/R+IbCO2p0T+cDCUe0lrTP2XMeJnUt9U/Cq7G9Fbc1T+AFKif4ZzXPwBAyR5ynNg/6pI3LTsI3T+pvLSOyhHfP94kOldWyN8/cXcgk1+C4j8qhRsiyE3jP0G/Cb/Bk+Q/f0MRWnSI5j95jBLvgejnP0X1I2xjRug/BlxL8Zja6T9jt6e5vEDpPy1PIvEwiug/+SNHTEte5z+4kf5HhcrkP4DszltTieQ/bOj6a/v15j9U1uUSkMPoP3og/xBJcuk/FGx2UlhD6T+OuL8iaI/oP+WLhjosQeg/l+kS1aZE5j+RCjsmJpHkP9OxVAoEnOM/QFqGV4314T9R5AUAmXPgP9gIuIQvit4/lWguF1ZX2z8S1YfPOaHZP91P9H8xBdg/F2E3Spy81j/hVFQk3z/VP36UdPSGO9M/Czwajbrt0T+1l7wviSfRPw5EeLApS88/7CqyZK9RzD8Q/NRecg3NP2lc16Xugck/h/B97Qo4yz/8qNqbU/rIP3n5PTZmrcU/8aoKbqqXxz/P+T02Zq3FP1Kfs/xCwsU/6dDYPYLywj/8/IVxaJnDP9CWpMbd2ME/D8RpY2/OwT+rAeYVFtTAP1moc0WeN8A/YcaZNcZrwD+aqHNFnjfAP4itoZa2974/5eO/Je6fwD/Z1TjiLy3AP9MKXKIwgL0/lo5jPeN0vz/D7U0btJq8P5Dp7XYGYL8/3qAyvKPTvT8PngLqTDa/Pw+eAupMNr8/ZpGTDzoSvj8=\",\"dtype\":\"float64\",\"shape\":[100]}}},\"id\":\"287d4eb0-6786-4606-a8a4-cf0379cc6b88\",\"type\":\"ColumnDataSource\"},{\"attributes\":{\"dimension\":1,\"plot\":{\"id\":\"4bf699ee-c4a9-4bf5-8c47-002890489501\",\"subtype\":\"Figure\",\"type\":\"Plot\"},\"ticker\":{\"id\":\"9e151b67-3b51-419b-81dd-3fd951383478\",\"type\":\"BasicTicker\"}},\"id\":\"60bc0596-25ff-4503-873b-c53bdb96c08f\",\"type\":\"Grid\"},{\"attributes\":{},\"id\":\"2d848485-092c-4a01-b8e0-dc19b1935830\",\"type\":\"SaveTool\"},{\"attributes\":{},\"id\":\"87518d62-f5cb-47b7-b22b-977977d6760a\",\"type\":\"HelpTool\"},{\"attributes\":{\"bottom_units\":\"screen\",\"fill_alpha\":{\"value\":0.5},\"fill_color\":{\"value\":\"lightgrey\"},\"left_units\":\"screen\",\"level\":\"overlay\",\"line_alpha\":{\"value\":1.0},\"line_color\":{\"value\":\"black\"},\"line_dash\":[4,4],\"line_width\":{\"value\":2},\"plot\":null,\"render_mode\":\"css\",\"right_units\":\"screen\",\"top_units\":\"screen\"},\"id\":\"697ef72e-2d13-46d6-98c2-46ffd9321e89\",\"type\":\"BoxAnnotation\"},{\"attributes\":{},\"id\":\"37e8304f-f3ed-4ac7-9c5a-90b15c5671f1\",\"type\":\"ResetTool\"},{\"attributes\":{},\"id\":\"164af10c-76f4-4427-b4e0-43eb912a12a2\",\"type\":\"BasicTickFormatter\"},{\"attributes\":{},\"id\":\"393787c6-d104-48c1-aacc-c56d53f557aa\",\"type\":\"LinearScale\"},{\"attributes\":{\"source\":{\"id\":\"287d4eb0-6786-4606-a8a4-cf0379cc6b88\",\"type\":\"ColumnDataSource\"}},\"id\":\"8b8f6c35-bbef-4a3d-a168-e319e2015f65\",\"type\":\"CDSView\"},{\"attributes\":{\"callback\":null},\"id\":\"1e11c9b1-20fb-42db-a974-9475d15315e4\",\"type\":\"DataRange1d\"},{\"attributes\":{\"active_drag\":\"auto\",\"active_inspect\":\"auto\",\"active_scroll\":\"auto\",\"active_tap\":\"auto\",\"tools\":[{\"id\":\"b3d4b7d9-3e12-4afd-8ac1-fe47222e8eb1\",\"type\":\"PanTool\"},{\"id\":\"6c9dac3d-215d-4b49-bf80-50a175e2b560\",\"type\":\"WheelZoomTool\"},{\"id\":\"a1422591-f3dc-4cac-8753-2e3c96e7a839\",\"type\":\"BoxZoomTool\"},{\"id\":\"2d848485-092c-4a01-b8e0-dc19b1935830\",\"type\":\"SaveTool\"},{\"id\":\"37e8304f-f3ed-4ac7-9c5a-90b15c5671f1\",\"type\":\"ResetTool\"},{\"id\":\"87518d62-f5cb-47b7-b22b-977977d6760a\",\"type\":\"HelpTool\"}]},\"id\":\"a63ccce2-dc16-4331-8a7b-b2a04993fb21\",\"type\":\"Toolbar\"},{\"attributes\":{\"plot\":{\"id\":\"4bf699ee-c4a9-4bf5-8c47-002890489501\",\"subtype\":\"Figure\",\"type\":\"Plot\"},\"ticker\":{\"id\":\"4e93d0b9-a84b-4303-a622-b2978b5653af\",\"type\":\"BasicTicker\"}},\"id\":\"fb62788c-3f40-484a-ae7f-7d343aca59a7\",\"type\":\"Grid\"},{\"attributes\":{},\"id\":\"9e151b67-3b51-419b-81dd-3fd951383478\",\"type\":\"BasicTicker\"},{\"attributes\":{},\"id\":\"ed5fd986-0226-4c52-a7df-1f37d9679fff\",\"type\":\"LinearScale\"},{\"attributes\":{\"label\":{\"value\":\"Monte-Carlo\"},\"renderers\":[{\"id\":\"6c4dd6b6-573f-40c9-ab40-74c50d52c884\",\"type\":\"GlyphRenderer\"}]},\"id\":\"a6f4c0d8-62cb-4adc-ae40-982b945d6fc4\",\"type\":\"LegendItem\"},{\"attributes\":{\"callback\":null},\"id\":\"1b9ce2ac-2251-487d-a7ef-66d2df77ad6e\",\"type\":\"DataRange1d\"},{\"attributes\":{\"items\":[{\"id\":\"a6f4c0d8-62cb-4adc-ae40-982b945d6fc4\",\"type\":\"LegendItem\"}],\"plot\":{\"id\":\"4bf699ee-c4a9-4bf5-8c47-002890489501\",\"subtype\":\"Figure\",\"type\":\"Plot\"}},\"id\":\"7a5cd033-28e1-4185-8383-be88ea3894b8\",\"type\":\"Legend\"}],\"root_ids\":[\"4bf699ee-c4a9-4bf5-8c47-002890489501\"]},\"title\":\"Bokeh Application\",\"version\":\"0.12.10\"}};\n",
       "    var render_items = [{\"docid\":\"95cd0cf4-76ff-4e50-9929-3852d5e27f9e\",\"elementid\":\"fb01ebf7-f889-4d0e-a0f1-079b349194c4\",\"modelid\":\"4bf699ee-c4a9-4bf5-8c47-002890489501\",\"notebook_comms_target\":\"03dd94e0-677a-493a-bb6c-cf99901c0931\"}];\n",
       "\n",
       "    root.Bokeh.embed.embed_items(docs_json, render_items);\n",
       "  }\n",
       "\n",
       "  if (root.Bokeh !== undefined) {\n",
       "    embed_document(root);\n",
       "  } else {\n",
       "    var attempts = 0;\n",
       "    var timer = setInterval(function(root) {\n",
       "      if (root.Bokeh !== undefined) {\n",
       "        embed_document(root);\n",
       "        clearInterval(timer);\n",
       "      }\n",
       "      attempts++;\n",
       "      if (attempts > 100) {\n",
       "        console.log(\"Bokeh: ERROR: Unable to embed document because BokehJS library is missing\")\n",
       "        clearInterval(timer);\n",
       "      }\n",
       "    }, 10, root)\n",
       "  }\n",
       "})(window);"
      ],
      "application/vnd.bokehjs_exec.v0+json": ""
     },
     "metadata": {
      "application/vnd.bokehjs_exec.v0+json": {
       "id": "4bf699ee-c4a9-4bf5-8c47-002890489501"
      }
     },
     "output_type": "display_data"
    },
    {
     "data": {
      "application/vnd.jupyter.widget-view+json": {
       "model_id": "f30cb62b576e4dd0a16deb1ca8d90d4e",
       "version_major": 2,
       "version_minor": 0
      },
      "text/plain": [
       "A Jupyter Widget"
      ]
     },
     "metadata": {},
     "output_type": "display_data"
    }
   ],
   "source": [
    "present(dphi_gen, dphi_calc, \"\\Delta \\phi\")"
   ]
  },
  {
   "cell_type": "code",
   "execution_count": 11,
   "metadata": {},
   "outputs": [
    {
     "data": {
      "text/html": [
       "\n",
       "<div class=\"bk-root\">\n",
       "    <div class=\"bk-plotdiv\" id=\"11ad426a-d1ea-4974-b03c-f70b85654b14\"></div>\n",
       "</div>"
      ]
     },
     "metadata": {},
     "output_type": "display_data"
    },
    {
     "data": {
      "application/javascript": [
       "(function(root) {\n",
       "  function embed_document(root) {\n",
       "    var docs_json = {\"3a2736cf-422d-4b90-86ed-3cceeb9594a3\":{\"roots\":{\"references\":[{\"attributes\":{},\"id\":\"be215056-a3c7-4e11-bbe1-fadfe20a2c9e\",\"type\":\"HelpTool\"},{\"attributes\":{\"source\":{\"id\":\"b1a93cb1-cc58-4bff-aaa4-5e4ba9f37425\",\"type\":\"ColumnDataSource\"}},\"id\":\"3524dfe9-17b7-41d5-818a-388906ddc2e7\",\"type\":\"CDSView\"},{\"attributes\":{\"plot\":null,\"text\":\"\"},\"id\":\"793a2e84-e073-448e-b925-b888770d987c\",\"type\":\"Title\"},{\"attributes\":{\"data_source\":{\"id\":\"b1a93cb1-cc58-4bff-aaa4-5e4ba9f37425\",\"type\":\"ColumnDataSource\"},\"glyph\":{\"id\":\"e6ddb357-737a-4f96-8bc7-1d83aab415f1\",\"type\":\"Quad\"},\"hover_glyph\":null,\"muted_glyph\":null,\"nonselection_glyph\":{\"id\":\"f5bc117b-81b4-49d8-81f8-c29747c80189\",\"type\":\"Quad\"},\"selection_glyph\":null,\"view\":{\"id\":\"3524dfe9-17b7-41d5-818a-388906ddc2e7\",\"type\":\"CDSView\"}},\"id\":\"6bac1d3c-cf72-49dc-a97c-887cd1fd984a\",\"type\":\"GlyphRenderer\"},{\"attributes\":{\"bottom\":{\"value\":0},\"fill_alpha\":{\"value\":0.1},\"fill_color\":{\"value\":\"#1f77b4\"},\"left\":{\"field\":\"left\"},\"line_alpha\":{\"value\":0.1},\"line_color\":{\"value\":\"#1f77b4\"},\"right\":{\"field\":\"right\"},\"top\":{\"field\":\"top\"}},\"id\":\"f5bc117b-81b4-49d8-81f8-c29747c80189\",\"type\":\"Quad\"},{\"attributes\":{\"callback\":null,\"column_names\":[\"left\",\"right\",\"top\"],\"data\":{\"left\":{\"__ndarray__\":\"f0fEAKz+B8Cjk0rj0YMHwMff0MX3CAfA6ytXqB2OBsAQeN2KQxMGwDTEY21pmAXAWBDqT48dBcB8XHAytaIEwKCo9hTbJwTAxPR89wCtA8DoQAPaJjIDwAyNibxMtwLAMNkPn3I8AsBUJZaBmMEBwHlxHGS+RgHAnb2iRuTLAMDBCSkpClEAwMqrXhdgrP+/EkRr3Ku2/r9b3Heh98D9v6N0hGZDy/y/6wyRK4/V+780pZ3w2t/6v3w9qrUm6vm/xNW2enL0+L8MbsM/vv73v1QG0AQKCfe/nZ7cyVUT9r/lNumOoR31vy3P9VPtJ/S/dmcCGTky87++/w7ehDzyvwaYG6PQRvG/TjAoaBxR8L8skWla0Lbuv7zBguRny+y/TPKbbv/f6r/gIrX4lvTov3BTzoIuCee/AITnDMYd5b+QtACXXTLjvyDlGSH1RuG/YCtmVhm33r+AjJhqSODav6jtyn53Cde/yE79kqYy07/QX19Oq7fOvxAixHYJCse/oMhRPs+4vr9AmjYeF7uuvwAAjSb/PgK/wFOjnvexrj9gJYh+P7S+P2BQ35bBB8c/II56bmO1zj/w5QqjgjHTP9CE2I5TCNc/sCOmeiTf2j+QwnNm9bXeP7iwICljRuE/JIAHn8sx4z+UT+4UNB3lPwQf1YqcCOc/dO67AAX06D/kvaJ2bd/qP1SNiezVyuw/xFxwYj627j8alits01DwP9L9HqeHRvE/imUS4js88j9CzQUd8DHzP/o0+VekJ/Q/spzsklgd9T9mBODNDBP2Px5s0wjBCPc/1tPGQ3X+9z+OO7p+KfT4P0ajrbnd6fk//gqh9JHf+j+2cpQvRtX7P27ah2r6yvw/JkJ7pa7A/T/eqW7gYrb+P5YRYhsXrP8/p7wqq+VQAECDcKTIv8sAQF8kHuaZRgFAO9iXA3TBAUAVjBEhTjwCQPE/iz4otwJAzfMEXAIyA0Cpp3553KwDQIVb+Ja2JwRAYQ9ytJCiBEA9w+vRah0FQBl3Ze9EmAVA9SrfDB8TBkDR3lgq+Y0GQK2S0kfTCAdAiUZMZa2DB0A=\",\"dtype\":\"float64\",\"shape\":[100]},\"right\":{\"__ndarray__\":\"o5NK49GDB8DH39DF9wgHwOsrV6gdjgbAEHjdikMTBsA0xGNtaZgFwFgQ6k+PHQXAfFxwMrWiBMCgqPYU2ycEwMT0fPcArQPA6EAD2iYyA8AMjYm8TLcCwDDZD59yPALAVCWWgZjBAcB5cRxkvkYBwJ29okbkywDAwQkpKQpRAMDKq14XYKz/vxJEa9yrtv6/W9x3offA/b+jdIRmQ8v8v+sMkSuP1fu/NKWd8Nrf+r98Paq1Jur5v8TVtnpy9Pi/DG7DP77+979UBtAECgn3v52e3MlVE/a/5TbpjqEd9b8tz/VT7Sf0v3ZnAhk5MvO/vv8O3oQ88r8GmBuj0Ebxv04wKGgcUfC/LJFpWtC27r+8wYLkZ8vsv0zym27/3+q/4CK1+Jb06L9wU86CLgnnvwCE5wzGHeW/kLQAl10y478g5Rkh9Ubhv2ArZlYZt96/gIyYakjg2r+o7cp+dwnXv8hO/ZKmMtO/0F9fTqu3zr8QIsR2CQrHv6DIUT7PuL6/QJo2Hhe7rr8AAI0m/z4Cv8BTo573sa4/YCWIfj+0vj9gUN+WwQfHPyCOem5jtc4/8OUKo4Ix0z/QhNiOUwjXP7Ajpnok39o/kMJzZvW13j+4sCApY0bhPySAB5/LMeM/lE/uFDQd5T8EH9WKnAjnP3TuuwAF9Og/5L2idm3f6j9UjYns1crsP8RccGI+tu4/GpYrbNNQ8D/S/R6nh0bxP4plEuI7PPI/Qs0FHfAx8z/6NPlXpCf0P7Kc7JJYHfU/ZgTgzQwT9j8ebNMIwQj3P9bTxkN1/vc/jju6fin0+D9Go6253en5P/4KofSR3/o/tnKUL0bV+z9u2odq+sr8PyZCe6WuwP0/3qlu4GK2/j+WEWIbF6z/P6e8KqvlUABAg3CkyL/LAEBfJB7mmUYBQDvYlwN0wQFAFYwRIU48AkDxP4s+KLcCQM3zBFwCMgNAqad+edysA0CFW/iWticEQGEPcrSQogRAPcPr0WodBUAZd2XvRJgFQPUq3wwfEwZA0d5YKvmNBkCtktJH0wgHQIlGTGWtgwdAZfrFgof+B0A=\",\"dtype\":\"float64\",\"shape\":[100]},\"top\":{\"__ndarray__\":\"jX2ibO0qhD80itK7JgmJP1mpKywO84Y/v5BqY0N4iz/mSyDbVzWNPxoglxs3bYo/5ksg21c1jT+g+qUDMxSKP7N3qZp4/Y8/cC/06FZBkj/AURmtzGKRP7Oc+9zUFJI/RiwolcgJkT/66qlga/6TP/YJA9FS6JE/toBuwHtilT/K/XFXwUubP6PeGOfZYZ0/ZgfWUmzynj9TvPMiZECeP1fFuEhnpaM/IXQ+cUKEoD9InuEGnLCiP4DIhJz13KQ/CBVN9sQqpj8vNKZmrBSkPzd/iJa0xqQ/4vXzhd1AqD82/Ist+q+qP0i5J8/VCK0/9XL3HCMqrj9VLq2UN+evP1SaIh4qK7E/H1Tya3dMsj+MC+n6GYSyPzCmX9h/u7U/mdACbtnntz+9SFSHyf27P/MAPqtPg7w/VHXQ280Tvz+srKFfujDBP6EiGrr/XMQ/9eGOGoafxz/N/mTspJnLPz222kp0WtE/NFfpz/YA1z9clBnJd6HgP89xdTXV9us/28gT71/CBkD8AtVFgNzxP1nQeqy6ufE/eQKcE/jwBkB65JLpIQbsPy0TrWmiLOA/pQaNnaaq1z9iCB2ni0zRPzA3yNocRsw/gjo+DsmDxj/Q6qlga/7DP+uIlnF9c8E/ieBS0NwJwD844P4Qof29P0Gxqf3x/bk/kKg4lyqltj9yWooTlLu0P/h7vEImj7M/O+nDNqRisz9UmiIeKiuxP7+YPPRij7A/EE/sLuZsrj8rK+FAqa+uP5NFiDM7xqo/T2it97DnqT8VymrGvHilP0oQm3hvV6Q/Zl5J/AVBpj8VymrGvHilP92fxzBjTKM/Eeb34hUroj/ZlgILYOedPyq5J8/VCJ0/DWt5Sz8fmz8QT+wu5myeP3MTZ8z9jpU/J9W06y67mT9620yTSyqcPyPxQQiIbZY/EIFuwHtilT9mXkn8BUGWPxNYsVTp0ZM/A78goUo2kT8QdD5xQoSQP+lU5QBbmpI/zeHkOmiZjj+WTk1ZPiuQP62vw9MqYok/+u11tPk1hT/tOFjkAeiFP+04WOQB6IU/B6OThPGDhD8=\",\"dtype\":\"float64\",\"shape\":[100]}}},\"id\":\"b1a93cb1-cc58-4bff-aaa4-5e4ba9f37425\",\"type\":\"ColumnDataSource\"},{\"attributes\":{},\"id\":\"9c04065e-8a87-43e4-b7a6-90132f235c0c\",\"type\":\"BasicTickFormatter\"},{\"attributes\":{\"dimension\":1,\"plot\":{\"id\":\"2e37c2b3-82d3-4f36-83f6-0306db19249a\",\"subtype\":\"Figure\",\"type\":\"Plot\"},\"ticker\":{\"id\":\"448f991f-dba1-431c-bd6b-fcac87256fd0\",\"type\":\"BasicTicker\"}},\"id\":\"d610db2d-a58a-4165-80ab-86c642879161\",\"type\":\"Grid\"},{\"attributes\":{},\"id\":\"8fd83183-5740-4569-9a8e-121406cadcd7\",\"type\":\"LinearScale\"},{\"attributes\":{},\"id\":\"dbe7269a-2e7d-48da-b10f-5c2bead28713\",\"type\":\"WheelZoomTool\"},{\"attributes\":{\"bottom\":{\"value\":0},\"fill_color\":{\"value\":\"#036564\"},\"left\":{\"field\":\"left\"},\"line_color\":{\"value\":\"#033649\"},\"right\":{\"field\":\"right\"},\"top\":{\"field\":\"top\"}},\"id\":\"e6ddb357-737a-4f96-8bc7-1d83aab415f1\",\"type\":\"Quad\"},{\"attributes\":{},\"id\":\"448f991f-dba1-431c-bd6b-fcac87256fd0\",\"type\":\"BasicTicker\"},{\"attributes\":{},\"id\":\"0cd4d705-350a-4873-9f93-bb7f130ee1cf\",\"type\":\"PanTool\"},{\"attributes\":{},\"id\":\"d2d4e6ba-110f-47c6-951a-67599b61862d\",\"type\":\"BasicTickFormatter\"},{\"attributes\":{},\"id\":\"526c6f9f-278c-4590-9e99-f0039fba2b72\",\"type\":\"SaveTool\"},{\"attributes\":{\"formatter\":{\"id\":\"9c04065e-8a87-43e4-b7a6-90132f235c0c\",\"type\":\"BasicTickFormatter\"},\"plot\":{\"id\":\"2e37c2b3-82d3-4f36-83f6-0306db19249a\",\"subtype\":\"Figure\",\"type\":\"Plot\"},\"ticker\":{\"id\":\"aed3bbd7-74bb-4ac0-a825-ebc885aecea1\",\"type\":\"BasicTicker\"}},\"id\":\"caae6971-085f-43d8-bed6-84b52ce59768\",\"type\":\"LinearAxis\"},{\"attributes\":{\"items\":[{\"id\":\"20a20734-a982-408f-886a-ab79ccb51713\",\"type\":\"LegendItem\"}],\"plot\":{\"id\":\"2e37c2b3-82d3-4f36-83f6-0306db19249a\",\"subtype\":\"Figure\",\"type\":\"Plot\"}},\"id\":\"ee43db25-a01d-412a-b6bd-f025824d8fdc\",\"type\":\"Legend\"},{\"attributes\":{\"formatter\":{\"id\":\"d2d4e6ba-110f-47c6-951a-67599b61862d\",\"type\":\"BasicTickFormatter\"},\"plot\":{\"id\":\"2e37c2b3-82d3-4f36-83f6-0306db19249a\",\"subtype\":\"Figure\",\"type\":\"Plot\"},\"ticker\":{\"id\":\"448f991f-dba1-431c-bd6b-fcac87256fd0\",\"type\":\"BasicTicker\"}},\"id\":\"c1ce758d-1521-4c06-a262-3780d662148d\",\"type\":\"LinearAxis\"},{\"attributes\":{\"plot\":{\"id\":\"2e37c2b3-82d3-4f36-83f6-0306db19249a\",\"subtype\":\"Figure\",\"type\":\"Plot\"},\"ticker\":{\"id\":\"aed3bbd7-74bb-4ac0-a825-ebc885aecea1\",\"type\":\"BasicTicker\"}},\"id\":\"31b4728a-e8d0-4f3d-a1e3-aa325d60e113\",\"type\":\"Grid\"},{\"attributes\":{\"below\":[{\"id\":\"caae6971-085f-43d8-bed6-84b52ce59768\",\"type\":\"LinearAxis\"}],\"left\":[{\"id\":\"c1ce758d-1521-4c06-a262-3780d662148d\",\"type\":\"LinearAxis\"}],\"plot_height\":400,\"plot_width\":900,\"renderers\":[{\"id\":\"caae6971-085f-43d8-bed6-84b52ce59768\",\"type\":\"LinearAxis\"},{\"id\":\"31b4728a-e8d0-4f3d-a1e3-aa325d60e113\",\"type\":\"Grid\"},{\"id\":\"c1ce758d-1521-4c06-a262-3780d662148d\",\"type\":\"LinearAxis\"},{\"id\":\"d610db2d-a58a-4165-80ab-86c642879161\",\"type\":\"Grid\"},{\"id\":\"44777bc7-9c85-41ea-a9ca-a2c80c93a39f\",\"type\":\"BoxAnnotation\"},{\"id\":\"ee43db25-a01d-412a-b6bd-f025824d8fdc\",\"type\":\"Legend\"},{\"id\":\"6bac1d3c-cf72-49dc-a97c-887cd1fd984a\",\"type\":\"GlyphRenderer\"}],\"title\":{\"id\":\"793a2e84-e073-448e-b925-b888770d987c\",\"type\":\"Title\"},\"toolbar\":{\"id\":\"9e8f68d0-56cd-4e44-8da2-21705b3bb669\",\"type\":\"Toolbar\"},\"x_range\":{\"id\":\"269e633a-88be-4deb-8573-a8287d84948f\",\"type\":\"DataRange1d\"},\"x_scale\":{\"id\":\"8fd83183-5740-4569-9a8e-121406cadcd7\",\"type\":\"LinearScale\"},\"y_range\":{\"id\":\"9f1b7746-8c29-4e91-b1b7-8e21a5ac4c18\",\"type\":\"DataRange1d\"},\"y_scale\":{\"id\":\"08bc0e2d-1584-4229-9caf-e141f4d1f1bb\",\"type\":\"LinearScale\"}},\"id\":\"2e37c2b3-82d3-4f36-83f6-0306db19249a\",\"subtype\":\"Figure\",\"type\":\"Plot\"},{\"attributes\":{\"overlay\":{\"id\":\"44777bc7-9c85-41ea-a9ca-a2c80c93a39f\",\"type\":\"BoxAnnotation\"}},\"id\":\"c37a162f-f041-4573-90fd-71ec0497def3\",\"type\":\"BoxZoomTool\"},{\"attributes\":{\"callback\":null},\"id\":\"9f1b7746-8c29-4e91-b1b7-8e21a5ac4c18\",\"type\":\"DataRange1d\"},{\"attributes\":{\"label\":{\"value\":\"Monte-Carlo\"},\"renderers\":[{\"id\":\"6bac1d3c-cf72-49dc-a97c-887cd1fd984a\",\"type\":\"GlyphRenderer\"}]},\"id\":\"20a20734-a982-408f-886a-ab79ccb51713\",\"type\":\"LegendItem\"},{\"attributes\":{\"callback\":null},\"id\":\"269e633a-88be-4deb-8573-a8287d84948f\",\"type\":\"DataRange1d\"},{\"attributes\":{\"bottom_units\":\"screen\",\"fill_alpha\":{\"value\":0.5},\"fill_color\":{\"value\":\"lightgrey\"},\"left_units\":\"screen\",\"level\":\"overlay\",\"line_alpha\":{\"value\":1.0},\"line_color\":{\"value\":\"black\"},\"line_dash\":[4,4],\"line_width\":{\"value\":2},\"plot\":null,\"render_mode\":\"css\",\"right_units\":\"screen\",\"top_units\":\"screen\"},\"id\":\"44777bc7-9c85-41ea-a9ca-a2c80c93a39f\",\"type\":\"BoxAnnotation\"},{\"attributes\":{\"active_drag\":\"auto\",\"active_inspect\":\"auto\",\"active_scroll\":\"auto\",\"active_tap\":\"auto\",\"tools\":[{\"id\":\"0cd4d705-350a-4873-9f93-bb7f130ee1cf\",\"type\":\"PanTool\"},{\"id\":\"dbe7269a-2e7d-48da-b10f-5c2bead28713\",\"type\":\"WheelZoomTool\"},{\"id\":\"c37a162f-f041-4573-90fd-71ec0497def3\",\"type\":\"BoxZoomTool\"},{\"id\":\"526c6f9f-278c-4590-9e99-f0039fba2b72\",\"type\":\"SaveTool\"},{\"id\":\"083c44de-6736-440a-930c-d0b7e5d254ec\",\"type\":\"ResetTool\"},{\"id\":\"be215056-a3c7-4e11-bbe1-fadfe20a2c9e\",\"type\":\"HelpTool\"}]},\"id\":\"9e8f68d0-56cd-4e44-8da2-21705b3bb669\",\"type\":\"Toolbar\"},{\"attributes\":{},\"id\":\"08bc0e2d-1584-4229-9caf-e141f4d1f1bb\",\"type\":\"LinearScale\"},{\"attributes\":{},\"id\":\"aed3bbd7-74bb-4ac0-a825-ebc885aecea1\",\"type\":\"BasicTicker\"},{\"attributes\":{},\"id\":\"083c44de-6736-440a-930c-d0b7e5d254ec\",\"type\":\"ResetTool\"}],\"root_ids\":[\"2e37c2b3-82d3-4f36-83f6-0306db19249a\"]},\"title\":\"Bokeh Application\",\"version\":\"0.12.10\"}};\n",
       "    var render_items = [{\"docid\":\"3a2736cf-422d-4b90-86ed-3cceeb9594a3\",\"elementid\":\"11ad426a-d1ea-4974-b03c-f70b85654b14\",\"modelid\":\"2e37c2b3-82d3-4f36-83f6-0306db19249a\",\"notebook_comms_target\":\"eac3d842-bd64-4e3c-96a4-40cc462fd521\"}];\n",
       "\n",
       "    root.Bokeh.embed.embed_items(docs_json, render_items);\n",
       "  }\n",
       "\n",
       "  if (root.Bokeh !== undefined) {\n",
       "    embed_document(root);\n",
       "  } else {\n",
       "    var attempts = 0;\n",
       "    var timer = setInterval(function(root) {\n",
       "      if (root.Bokeh !== undefined) {\n",
       "        embed_document(root);\n",
       "        clearInterval(timer);\n",
       "      }\n",
       "      attempts++;\n",
       "      if (attempts > 100) {\n",
       "        console.log(\"Bokeh: ERROR: Unable to embed document because BokehJS library is missing\")\n",
       "        clearInterval(timer);\n",
       "      }\n",
       "    }, 10, root)\n",
       "  }\n",
       "})(window);"
      ],
      "application/vnd.bokehjs_exec.v0+json": ""
     },
     "metadata": {
      "application/vnd.bokehjs_exec.v0+json": {
       "id": "2e37c2b3-82d3-4f36-83f6-0306db19249a"
      }
     },
     "output_type": "display_data"
    },
    {
     "data": {
      "application/vnd.jupyter.widget-view+json": {
       "model_id": "d200a0c29875415ca892d6607d14849b",
       "version_major": 2,
       "version_minor": 0
      },
      "text/plain": [
       "A Jupyter Widget"
      ]
     },
     "metadata": {},
     "output_type": "display_data"
    }
   ],
   "source": [
    "present(dtheta_gen, \"\\Delta \\eta\")"
   ]
  },
  {
   "cell_type": "markdown",
   "metadata": {},
   "source": [
    "# TEST #"
   ]
  },
  {
   "cell_type": "code",
   "execution_count": 241,
   "metadata": {},
   "outputs": [],
   "source": [
    "def cut(x, c=1):\n",
    "    return np.min([x, c * np.ones(x.shape)], axis=0)\n",
    "\n",
    "def norm(x, c=100):\n",
    "    res = np.array(list(filter(lambda x: x < c and x > -c, x)))\n",
    "    return res / np.sum(res)\n",
    "\n",
    "def dphi_calc(dphi, a, b, sign = +1):\n",
    "    f = 1 / np.tan(dphi)\n",
    "    sin = np.sin(dphi)\n",
    "    df_ddphi = - 1 / (sin * sin)\n",
    "    \n",
    "    c1 = (a * a - 1)\n",
    "    u = (2 * b * b * f * f) / (c1 * c1)\n",
    "    t = (b * b - 1) / c1\n",
    "    du_df = 4 * b * b * f / (c1 * c1)\n",
    "    \n",
    "    sx = np.sqrt((t - u) + sign * np.sqrt(u * (u + 2 - 2 * t)))\n",
    "    dsx_du = (0.5 / sx) * (-1 + sign * (u / np.sqrt(u * (u + 2 - 2 * t))))\n",
    "    res = (dsx_du * du_df * df_ddphi)\n",
    "    #res = cut(res, 10)\n",
    "    #res = norm(res)\n",
    "    return res"
   ]
  },
  {
   "cell_type": "code",
   "execution_count": 242,
   "metadata": {},
   "outputs": [
    {
     "data": {
      "text/html": [
       "\n",
       "<div class=\"bk-root\">\n",
       "    <div class=\"bk-plotdiv\" id=\"785a6c63-1051-412e-b33a-f6255336de9e\"></div>\n",
       "</div>"
      ]
     },
     "metadata": {},
     "output_type": "display_data"
    },
    {
     "data": {
      "application/javascript": [
       "(function(root) {\n",
       "  function embed_document(root) {\n",
       "    var docs_json = {\"05a45675-a362-467d-a984-ef1cceac37a3\":{\"roots\":{\"references\":[{\"attributes\":{},\"id\":\"1e1b814a-b13f-4145-b21d-7628a6bb8a83\",\"type\":\"BasicTickFormatter\"},{\"attributes\":{},\"id\":\"cb5b8586-843d-40a3-afc1-309b3745cf88\",\"type\":\"HelpTool\"},{\"attributes\":{},\"id\":\"81b6e28f-ebdd-4b1b-bdc3-3306511f04dc\",\"type\":\"SaveTool\"},{\"attributes\":{\"active_drag\":\"auto\",\"active_inspect\":\"auto\",\"active_scroll\":\"auto\",\"active_tap\":\"auto\",\"tools\":[{\"id\":\"ee9dc885-cfb6-4b33-b227-846e1b2cf79e\",\"type\":\"PanTool\"},{\"id\":\"c28b4c7e-9fcb-4d4e-8615-197350d6eb85\",\"type\":\"WheelZoomTool\"},{\"id\":\"d4b434d4-17f9-4d4b-803d-ab38250ea8f9\",\"type\":\"BoxZoomTool\"},{\"id\":\"81b6e28f-ebdd-4b1b-bdc3-3306511f04dc\",\"type\":\"SaveTool\"},{\"id\":\"b726736a-c5fc-4850-97da-19f652ae707c\",\"type\":\"ResetTool\"},{\"id\":\"cb5b8586-843d-40a3-afc1-309b3745cf88\",\"type\":\"HelpTool\"}]},\"id\":\"06c017c1-203c-4535-9014-cd4a62d16f54\",\"type\":\"Toolbar\"},{\"attributes\":{},\"id\":\"e835b394-16f2-4f88-b9ba-006102bcd2b3\",\"type\":\"BasicTicker\"},{\"attributes\":{},\"id\":\"4c754703-941a-4806-894c-4b7515bafb3b\",\"type\":\"LinearScale\"},{\"attributes\":{\"items\":[{\"id\":\"f884ef62-fa81-4a76-be1d-d3b4a994ac71\",\"type\":\"LegendItem\"}],\"plot\":{\"id\":\"645218c9-a89d-4905-bdd0-d1f0f23fafe7\",\"subtype\":\"Figure\",\"type\":\"Plot\"}},\"id\":\"2292878e-10d7-4d1b-8a9f-f97e6e49fbb0\",\"type\":\"Legend\"},{\"attributes\":{\"callback\":null,\"column_names\":[\"x\",\"y\"],\"data\":{\"x\":{\"__ndarray__\":\"mpmZmZmZuT9LnYE1pNS5P/ugadGuD7o/rKRRbblKuj9dqDkJxIW6Pw2sIaXOwLo/vq8JQdn7uj9vs/Hc4za7Px+32Xjucbs/0LrBFPmsuz+BvqmwA+i7PzHCkUwOI7w/4sV56BhevD+TyWGEI5m8P0PNSSAu1Lw/9NAxvDgPvT+l1BlYQ0q9P1XYAfRNhb0/Btzpj1jAvT+239ErY/u9P2fjucdtNr4/GOehY3hxvj/I6on/gqy+P3nucZuN574/KvJZN5givz/a9UHTol2/P4v5KW+tmL8/PP0RC7jTvz92AH1TYQfAP08CcaHmJMA/JwRl72tCwD//BVk98V/AP9gHTYt2fcA/sAlB2fuawD+ICzUngbjAP2ANKXUG1sA/OQ8dw4vzwD8RERERERHBP+oSBV+WLsE/whT5rBtMwT+aFu36oGnBP3IY4Ugmh8E/SxrVlqukwT8jHMnkMMLBP/wdvTK238E/1B+xgDv9wT+sIaXOwBrCP4QjmRxGOMI/XSWNastVwj81J4G4UHPCPw4pdQbWkMI/5ippVFuuwj++LF2i4MvCP5YuUfBl6cI/bzBFPusGwz9HMjmMcCTDPyA0Ldr1QcM/+DUhKHtfwz/QNxV2AH3DP6g5CcSFmsM/gTv9EQu4wz9ZPfFfkNXDPzI/5a0V88M/CkHZ+5oQxD/iQs1JIC7EP7pEwZelS8Q/k0a15SppxD9rSKkzsIbEP0RKnYE1pMQ/HEyRz7rBxD/0TYUdQN/EP8xPeWvF/MQ/pVFtuUoaxT99U2EH0DfFP1ZVVVVVVcU/LldJo9pyxT8GWT3xX5DFP95aMT/lrcU/t1wljWrLxT+PXhnb7+jFP2hgDSl1BsY/QGIBd/ojxj8YZPXEf0HGP/Bl6RIFX8Y/yWfdYIp8xj+hadGuD5rGP3prxfyUt8Y/Um25ShrVxj8qb62Yn/LGPwJxoeYkEMc/23KVNKotxz+zdImCL0vHP4x2fdC0aMc/ZHhxHjqGxz88emVsv6PHPxR8WbpEwcc/7X1NCMrexz/Ff0FWT/zHP56BNaTUGcg/doMp8lk3yD9OhR1A31TIPyaHEY5kcsg//4gF3OmPyD/Xivkpb63IP7CM7Xf0ysg/iI7hxXnoyD9gkNUT/wXJPziSyWGEI8k/EZS9rwlByT/plbH9jl7JP8KXpUsUfMk/mpmZmZmZyT9ym43nHrfJP0qdgTWk1Mk/I591gynyyT/7oGnRrg/KP9SiXR80Lco/rKRRbblKyj+EpkW7PmjKP1yoOQnEhco/NaotV0mjyj8NrCGlzsDKP+atFfNT3so/vq8JQdn7yj+Wsf2OXhnLP26z8dzjNss/R7XlKmlUyz8ft9l47nHLP/i4zcZzj8s/0LrBFPmsyz+ovLVifsrLP4C+qbAD6Ms/WcCd/ogFzD8xwpFMDiPMPwrEhZqTQMw/4sV56BhezD+6x202nnvMP5LJYYQjmcw/a8tV0qi2zD9DzUkgLtTMPxvPPW6z8cw/9NAxvDgPzT/M0iUKvizNP6TUGVhDSs0/fdYNpshnzT9V2AH0TYXNPy3a9UHTos0/Btzpj1jAzT/e3d3d3d3NP7bf0Stj+80/j+HFeegYzj9n47nHbTbOPz/lrRXzU84/GOehY3hxzj/w6JWx/Y7OP8jqif+CrM4/oex9TQjKzj957nGbjefOP1HwZekSBc8/KvJZN5gizz8C9E2FHUDPP9r1QdOiXc8/s/c1ISh7zz+L+SlvrZjPP2P7Hb0yts8/PP0RC7jTzz8U/wVZPfHPP3YAfVNhB9A/YgF3+iMW0D9OAnGh5iTQPzoDa0ipM9A/JwRl72tC0D8TBV+WLlHQP/8FWT3xX9A/7AZT5LNu0D/YB02Ldn3QP8QIRzI5jNA/sAlB2fua0D+cCjuAvqnQP4gLNSeBuNA/dAwvzkPH0D9gDSl1BtbQP0wOIxzJ5NA/OQ8dw4vz0D8lEBdqTgLRPxEREREREdE//hELuNMf0T/qEgVfli7RP9YT/wVZPdE/whT5rBtM0T+uFfNT3lrRP5oW7fqgadE/hhfnoWN40T9yGOFIJofRP14Z2+/oldE/SxrVlquk0T83G889brPRPyMcyeQwwtE/EB3Di/PQ0T/8Hb0ytt/RP+get9l47tE/1B+xgDv90T/AIKsn/gvSP6whpc7AGtI/mCKfdYMp0j+EI5kcRjjSP3Akk8MIR9I/XSWNastV0j9JJocRjmTSPzUngbhQc9I/Iih7XxOC0j8OKXUG1pDSP/opb62Yn9I/5ippVFuu0j/SK2P7Hb3SP74sXaLgy9I/qi1XSaPa0j+WLlHwZenSP4IvS5co+NI/bzBFPusG0z9bMT/lrRXTP0cyOYxwJNM/NDMzMzMz0z8gNC3a9UHTPww1J4G4UNM/+DUhKHtf0z/kNhvPPW7TP9A3FXYAfdM/vDgPHcOL0z+oOQnEhZrTP5Q6A2tIqdM/gTv9EQu40z9tPPe4zcbTP1k98V+Q1dM/Rj7rBlPk0z8yP+WtFfPTPx5A31TYAdQ/CkHZ+5oQ1D/2QdOiXR/UP+JCzUkgLtQ/zkPH8OI81D+6RMGXpUvUP6ZFuz5oWtQ/k0a15Spp1D9/R6+M7XfUP2tIqTOwhtQ/WEmj2nKV1D9ESp2BNaTUPzBLlyj4stQ/HEyRz7rB1D8ITYt2fdDUP/RNhR1A39Q/4E5/xALu1D/MT3lrxfzUP7hQcxKIC9U/pVFtuUoa1T+RUmdgDSnVP31TYQfQN9U/alRbrpJG1T9WVVVVVVXVP0JWT/wXZNU/LldJo9py1T8aWENKnYHVPwZZPfFfkNU/8lk3mCKf1T/eWjE/5a3VP8pbK+anvNU/t1wljWrL1T+jXR80LdrVP49eGdvv6NU/fF8TgrL31T9oYA0pdQbWP1RhB9A3FdY/QGIBd/oj1j8sY/sdvTLWPxhk9cR/QdY/BGXva0JQ1j/wZekSBV/WP9xm47nHbdY/yGfdYIp81j+0aNcHTYvWP6Jp0a4PmtY/jmrLVdKo1j96a8X8lLfWP2Zsv6NXxtY/Um25ShrV1j8+brPx3OPWPypvrZif8tY/FnCnP2IB1z8CcaHmJBDXP+5xm43nHtc/2nKVNKot1z/Gc4/bbDzXP7R0iYIvS9c/oHWDKfJZ1z+Mdn3QtGjXP3h3d3d3d9c/ZHhxHjqG1z9QeWvF/JTXPzx6ZWy/o9c/KHtfE4Ky1z8UfFm6RMHXPwB9U2EH0Nc/7H1NCMre1z/YfkevjO3XP8Z/QVZP/Nc/soA7/REL2D+egTWk1BnYP4qCL0uXKNg/doMp8lk32D9ihCOZHEbYP06FHUDfVNg/OoYX56Fj2D8mhxGOZHLYPxKICzUngdg//ogF3OmP2D/qif+CrJ7YP9iK+Slvrdg/xIvz0DG82D+wjO139MrYP5yN5x632dg/iI7hxXno2D90j9tsPPfYP2CQ1RP/Bdk/TJHPusEU2T84kslhhCPZPySTwwhHMtk/EJS9rwlB2T/8lLdWzE/ZP+qVsf2OXtk/1parpFFt2T/Cl6VLFHzZP66Yn/LWitk/mpmZmZmZ2T+GmpNAXKjZP3Kbjecet9k/XpyHjuHF2T9KnYE1pNTZPzaee9xm49k/Ip91gyny2T8OoG8q7ADaP/ygadGuD9o/6KFjeHEe2j/Uol0fNC3aP8CjV8b2O9o/rKRRbblK2j+YpUsUfFnaP4SmRbs+aNo/cKc/YgF32j9cqDkJxIXaP0ipM7CGlNo/NKotV0mj2j8gqyf+C7LaPw6sIaXOwNo/+qwbTJHP2j/mrRXzU97aP9KuD5oW7do/vq8JQdn72j+qsAPomwrbP5ax/Y5eGds/grL3NSEo2z9us/Hc4zbbP1q064OmRds/RrXlKmlU2z8ytt/RK2PbPyC32Xjucds/DLjTH7GA2z/4uM3Gc4/bP+S5x202nts/0LrBFPms2z+8u7u7u7vbP6i8tWJ+yts/lL2vCUHZ2z+AvqmwA+jbP2y/o1fG9ts/WMCd/ogF3D9EwZelSxTcPzLCkUwOI9w/HsOL89Ax3D8KxIWak0DcP/bEf0FWT9w/4sV56Bhe3D/OxnOP22zcP7rHbTaee9w/pshn3WCK3D+SyWGEI5ncP37KWyvmp9w/astV0qi23D9WzE95a8XcP0TNSSAu1Nw/MM5Dx/Di3D8czz1us/HcPwjQNxV2AN0/9NAxvDgP3T/g0Stj+x3dP8zSJQq+LN0/uNMfsYA73T+k1BlYQ0rdP5DVE/8FWd0/fNYNpshn3T9o1wdNi3bdP1bYAfRNhd0/Qtn7mhCU3T8u2vVB06LdPxrb7+iVsd0/Btzpj1jA3T/y3OM2G8/dP97d3d3d3d0/yt7XhKDs3T+239ErY/vdP6Lgy9IlCt4/juHFeegY3j964r8gqyfeP2jjucdtNt4/VOSzbjBF3j9A5a0V81PePyzmp7y1Yt4/GOehY3hx3j8E6JsKO4DeP/DolbH9jt4/3OmPWMCd3j/I6on/gqzeP7Trg6ZFu94/oOx9TQjK3j+M7Xf0ytjeP3rucZuN594/Zu9rQlD23j9S8GXpEgXfPz7xX5DVE98/KvJZN5gi3z8W81PeWjHfPwL0TYUdQN8/7vRHLOBO3z/a9UHTol3fP8b2O3plbN8/svc1ISh73z+e+C/I6onfP4z5KW+tmN8/ePojFnCn3z9k+x29MrbfP1D8F2T1xN8/PP0RC7jT3z8o/guyeuLfPxT/BVk98d8/AAAAAAAA4D92AH1TYQfgP+wA+qbCDuA/YgF3+iMW4D/YAfRNhR3gP08CcaHmJOA/xQLu9Ecs4D87A2tIqTPgP7ED6JsKO+A/JwRl72tC4D+dBOJCzUngPxMFX5YuUeA/iQXc6Y9Y4D//BVk98V/gP3UG1pBSZ+A/6wZT5LNu4D9hB9A3FXbgP9gHTYt2feA/TgjK3teE4D/ECEcyOYzgPzoJxIWak+A/sAlB2fua4D8mCr4sXaLgP5wKO4C+qeA/Egu40x+x4D+ICzUngbjgP/4Lsnriv+A/dAwvzkPH4D/qDKwhpc7gP2ENKXUG1uA/1w2myGfd4D9NDiMcyeTgP8MOoG8q7OA/OQ8dw4vz4D+vD5oW7frgPyUQF2pOAuE/mxCUva8J4T8RERERERHhP4cRjmRyGOE//RELuNMf4T9zEogLNSfhP+oSBV+WLuE/YBOCsvc14T/WE/8FWT3hP0wUfFm6ROE/whT5rBtM4T84FXYAfVPhP64V81PeWuE/JBZwpz9i4T+aFu36oGnhPxAXak4CceE/hhfnoWN44T/8F2T1xH/hP3MY4Ugmh+E/6RhenIeO4T9fGdvv6JXhP9UZWENKneE/SxrVlquk4T/BGlLqDKzhPzcbzz1us+E/rRtMkc+64T8jHMnkMMLhP5kcRjiSyeE/Dx3Di/PQ4T+FHUDfVNjhP/wdvTK23+E/ch46hhfn4T/oHrfZeO7hP14fNC3a9eE/1B+xgDv94T9KIC7UnATiP8Agqyf+C+I/NiEoe18T4j+sIaXOwBriPyIiIiIiIuI/mCKfdYMp4j8OIxzJ5DDiP4QjmRxGOOI/+yMWcKc/4j9xJJPDCEfiP+ckEBdqTuI/XSWNastV4j/TJQq+LF3iP0kmhxGOZOI/vyYEZe9r4j81J4G4UHPiP6sn/guyeuI/ISh7XxOC4j+XKPiydIniPw0pdQbWkOI/hCnyWTeY4j/6KW+tmJ/iP3Aq7AD6puI/5ippVFuu4j9cK+anvLXiP9IrY/sdveI/SCzgTn/E4j++LF2i4MviPzQt2vVB0+I/qi1XSaPa4j8gLtScBOLiP5YuUfBl6eI/DS/OQ8fw4j+DL0uXKPjiP/kvyOqJ/+I/bzBFPusG4z/lMMKRTA7jP1sxP+WtFeM/0TG8OA8d4z9HMjmMcCTjP70ytt/RK+M/MzMzMzMz4z+pM7CGlDrjPx80Ldr1QeM/lTSqLVdJ4z8LNSeBuFDjP4E1pNQZWOM/+DUhKHtf4z9uNp573GbjP+Q2G889buM/WjeYIp914z/QNxV2AH3jP0Y4kslhhOM/vDgPHcOL4z8yOYxwJJPjP6g5CcSFmuM/HjqGF+eh4z+UOgNrSKnjPwo7gL6psOM/gTv9EQu44z/3O3plbL/jP20897jNxuM/4zx0DC/O4z9ZPfFfkNXjP889brPx3OM/RT7rBlPk4z+7PmhatOvjPzE/5a0V8+M/pz9iAXf64z8dQN9U2AHkP5NAXKg5CeQ/CkHZ+5oQ5D+AQVZP/BfkP/ZB06JdH+Q/bEJQ9r4m5D/iQs1JIC7kP1hDSp2BNeQ/zkPH8OI85D9ERERERETkP7pEwZelS+Q/MEU+6wZT5D+mRbs+aFrkPxxGOJLJYeQ/k0a15Spp5D8JRzI5jHDkP39Hr4ztd+Q/9Ucs4E5/5D9rSKkzsIbkP+FIJocRjuQ/V0mj2nKV5D/NSSAu1JzkP0NKnYE1pOQ/uUoa1Zar5D8vS5co+LLkP6VLFHxZuuQ/HEyRz7rB5D+STA4jHMnkPwhNi3Z90OQ/fk0Iyt7X5D/0TYUdQN/kP2pOAnGh5uQ/4E5/xALu5D9WT/wXZPXkP8xPeWvF/OQ/QlD2viYE5T+4UHMSiAvlPy5R8GXpEuU/pVFtuUoa5T8bUuoMrCHlP5FSZ2ANKeU/B1Pks24w5T99U2EH0DflP/NT3loxP+U/aVRbrpJG5T/fVNgB9E3lP1VVVVVVVeU/y1XSqLZc5T9BVk/8F2TlP7dWzE95a+U/LldJo9py5T+kV8b2O3rlPxpYQ0qdgeU/kFjAnf6I5T8GWT3xX5DlP3xZukTBl+U/8lk3mCKf5T9oWrTrg6blP95aMT/lreU/VFuukka15T/KWyvmp7zlP0BcqDkJxOU/t1wljWrL5T8tXaLgy9LlP6NdHzQt2uU/GV6ch47h5T+PXhnb7+jlPwVfli5R8OU/e18TgrL35T/xX5DVE//lP2dgDSl1BuY/3WCKfNYN5j9TYQfQNxXmP8lhhCOZHOY/QGIBd/oj5j+2Yn7KWyvmPyxj+x29MuY/omN4cR465j8YZPXEf0HmP45kchjhSOY/BGXva0JQ5j96ZWy/o1fmP/Bl6RIFX+Y/ZmZmZmZm5j/cZuO5x23mP1JnYA0pdeY/yWfdYIp85j8/aFq064PmP7Vo1wdNi+Y/K2lUW66S5j+hadGuD5rmPxdqTgJxoeY/jWrLVdKo5j8Da0ipM7DmP3lrxfyUt+Y/72tCUPa+5j9lbL+jV8bmP9tsPPe4zeY/Um25ShrV5j/IbTaee9zmPz5us/Hc4+Y/tG4wRT7r5j8qb62Yn/LmP6BvKuwA+uY/FnCnP2IB5z+McCSTwwjnPwJxoeYkEOc/eHEeOoYX5z/ucZuN5x7nP2RyGOFIJuc/23KVNKot5z9RcxKICzXnP8dzj9tsPOc/PXQML85D5z+zdImCL0vnPyl1BtaQUuc/n3WDKfJZ5z8VdgB9U2HnP4t2fdC0aOc/AXf6IxZw5z93d3d3d3fnP+139MrYfuc/ZHhxHjqG5z/aeO5xm43nP1B5a8X8lOc/xnnoGF6c5z88emVsv6PnP7J64r8gq+c/KHtfE4Ky5z+ee9xm47nnPxR8WbpEwec/inzWDabI5z8AfVNhB9DnP3Z90LRo1+c/7X1NCMre5z9jfspbK+bnP9l+R6+M7ec/T3/EAu705z/Ff0FWT/znPzuAvqmwA+g/sYA7/REL6D8ngbhQcxLoP52BNaTUGeg/E4Ky9zUh6D+Jgi9LlyjoP/+CrJ74L+g/doMp8lk36D/sg6ZFuz7oP2KEI5kcRug/2ISg7H1N6D9OhR1A31ToP8SFmpNAXOg/OoYX56Fj6D+whpQ6A2voPyaHEY5kcug/nIeO4cV56D8SiAs1J4HoP4iIiIiIiOg//4gF3OmP6D91iYIvS5foP+uJ/4Ksnug/YYp81g2m6D/Xivkpb63oP02Ldn3QtOg/w4vz0DG86D85jHAkk8PoP6+M7Xf0yug/JY1qy1XS6D+bjecet9noPxGOZHIY4eg/iI7hxXno6D/+jl4Z2+/oP3SP22w89+g/6o9YwJ3+6D9gkNUT/wXpP9aQUmdgDek/TJHPusEU6T/CkUwOIxzpPziSyWGEI+k/rpJGteUq6T8kk8MIRzLpP5qTQFyoOek/EZS9rwlB6T+HlDoDa0jpP/2Ut1bMT+k/c5U0qi1X6T/plbH9jl7pP1+WLlHwZek/1ZarpFFt6T9Llyj4snTpP8GXpUsUfOk/N5gin3WD6T+tmJ/y1orpPyOZHEY4kuk/mZmZmZmZ6T8Qmhbt+qDpP4aak0BcqOk//JoQlL2v6T9ym43nHrfpP+ibCjuAvuk/XpyHjuHF6T/UnATiQs3pP0qdgTWk1Ok/wJ3+iAXc6T82nnvcZuPpP6ye+C/I6uk/Ip91gyny6T+Zn/LWivnpPw+gbyrsAOo/haDsfU0I6j/7oGnRrg/qP3Gh5iQQF+o/56FjeHEe6j9douDL0iXqP9OiXR80Leo/SaPacpU06j+/o1fG9jvqPzWk1BlYQ+o/q6RRbblK6j8ipc7AGlLqP5ilSxR8Weo/DqbIZ91g6j+EpkW7PmjqP/qmwg6gb+o/cKc/YgF36j/mp7y1Yn7qP1yoOQnEheo/0qi2XCWN6j9IqTOwhpTqP76psAPom+o/NKotV0mj6j+rqqqqqqrqPyGrJ/4Lsuo/l6ukUW256j8NrCGlzsDqP4OsnvgvyOo/+awbTJHP6j9vrZif8tbqP+WtFfNT3uo/W66SRrXl6j/Rrg+aFu3qP0evjO139Oo/va8JQdn76j80sIaUOgPrP6qwA+ibCus/ILGAO/0R6z+Wsf2OXhnrPwyyeuK/IOs/grL3NSEo6z/4snSJgi/rP26z8dzjNus/5LNuMEU+6z9atOuDpkXrP9C0aNcHTes/RrXlKmlU6z+9tWJ+ylvrPzO239ErY+s/qbZcJY1q6z8ft9l47nHrP5W3VsxPees/C7jTH7GA6z+BuFBzEojrP/e4zcZzj+s/bblKGtWW6z/jucdtNp7rP1m6RMGXpes/z7rBFPms6z9Guz5oWrTrP7y7u7u7u+s/Mrw4Dx3D6z+ovLVifsrrPx69Mrbf0es/lL2vCUHZ6z8KvixdouDrP4C+qbAD6Os/9r4mBGXv6z9sv6NXxvbrP+K/IKsn/us/WMCd/ogF7D/PwBpS6gzsP0XBl6VLFOw/u8EU+awb7D8xwpFMDiPsP6fCDqBvKuw/HcOL89Ax7D+TwwhHMjnsPwnEhZqTQOw/f8QC7vRH7D/1xH9BVk/sP2vF/JS3Vuw/4cV56Bhe7D9YxvY7emXsP87Gc4/bbOw/RMfw4jx07D+6x202nnvsPzDI6on/guw/pshn3WCK7D8cyeQwwpHsP5LJYYQjmew/CMre14Sg7D9+ylsr5qfsP/TK2H5Hr+w/astV0qi27D/hy9IlCr7sP1fMT3lrxew/zczMzMzM7D9DzUkgLtTsP7nNxnOP2+w/L85Dx/Di7D+lzsAaUursPxvPPW6z8ew/kc+6wRT57D8H0DcVdgDtP33QtGjXB+0/89AxvDgP7T9q0a4PmhbtP+DRK2P7He0/VtKotlwl7T/M0iUKviztP0LTol0fNO0/uNMfsYA77T8u1JwE4kLtP6TUGVhDSu0/GtWWq6RR7T+Q1RP/BVntPwbWkFJnYO0/fNYNpshn7T/z1or5KW/tP2nXB02Ldu0/39eEoOx97T9V2AH0TYXtP8vYfkevjO0/Qdn7mhCU7T+32XjucZvtPy3a9UHTou0/o9pylTSq7T8Z2+/olbHtP4/bbDz3uO0/Bdzpj1jA7T983GbjucftP/Lc4zYbz+0/aN1ginzW7T/e3d3d3d3tP1TeWjE/5e0/yt7XhKDs7T9A31TYAfTtP7bf0Stj++0/LOBOf8QC7j+i4MvSJQruPxjhSCaHEe4/juHFeegY7j8F4kLNSSDuP3vivyCrJ+4/8eI8dAwv7j9n47nHbTbuP93jNhvPPe4/U+SzbjBF7j/J5DDCkUzuPz/lrRXzU+4/teUqaVRb7j8r5qe8tWLuP6HmJBAXau4/F+ehY3hx7j+O5x632XjuPwTomwo7gO4/eugYXpyH7j/w6JWx/Y7uP2bpEgVflu4/3OmPWMCd7j9S6gysIaXuP8jqif+CrO4/PusGU+Sz7j+064OmRbvuPyrsAPqmwu4/oOx9TQjK7j8X7fqgadHuP43td/TK2O4/A+70Ryzg7j957nGbjefuP+/u7u7u7u4/Ze9rQlD27j/b7+iVsf3uP1HwZekSBe8/x/DiPHQM7z898V+Q1RPvP7Px3OM2G+8/KfJZN5gi7z+g8taK+SnvPxbzU95aMe8/jPPQMbw47z8C9E2FHUDvP3j0yth+R+8/7vRHLOBO7z9k9cR/QVbvP9r1QdOiXe8/UPa+JgRl7z/G9jt6ZWzvPzz3uM3Gc+8/svc1ISh77z8p+LJ0iYLvP5/4L8jqie8/FfmsG0yR7z+L+SlvrZjvPwH6psIOoO8/d/ojFnCn7z/t+qBp0a7vP2P7Hb0ytu8/2fuaEJS97z9P/Bdk9cTvP8X8lLdWzO8/O/0RC7jT7z+y/Y5eGdvvPyj+C7J64u8/nv6IBdzp7z8U/wVZPfHvP4r/gqye+O8/AAAAAAAA8D8=\",\"dtype\":\"float64\",\"shape\":[1000]},\"y\":{\"__ndarray__\":\"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\",\"dtype\":\"float64\",\"shape\":[1000]}}},\"id\":\"f1e1b8b6-3209-496f-9575-5e03ca9d1d99\",\"type\":\"ColumnDataSource\"},{\"attributes\":{},\"id\":\"711eaf5d-8bd6-49dd-907c-e6e0cfb7b53d\",\"type\":\"LinearScale\"},{\"attributes\":{\"line_alpha\":{\"value\":0.1},\"line_color\":{\"value\":\"#1f77b4\"},\"line_width\":{\"value\":8},\"x\":{\"field\":\"x\"},\"y\":{\"field\":\"y\"}},\"id\":\"513d6732-3da5-42e5-8b51-74855c96a6c7\",\"type\":\"Line\"},{\"attributes\":{\"callback\":null},\"id\":\"4afd5829-4894-4927-be57-789ef43a63ae\",\"type\":\"DataRange1d\"},{\"attributes\":{\"overlay\":{\"id\":\"7fe59252-8e63-40a9-bf02-7efb6c4bd0a9\",\"type\":\"BoxAnnotation\"}},\"id\":\"d4b434d4-17f9-4d4b-803d-ab38250ea8f9\",\"type\":\"BoxZoomTool\"},{\"attributes\":{\"data_source\":{\"id\":\"f1e1b8b6-3209-496f-9575-5e03ca9d1d99\",\"type\":\"ColumnDataSource\"},\"glyph\":{\"id\":\"5bed66b0-a069-4c8a-9d2c-3ef2f64f2e75\",\"type\":\"Line\"},\"hover_glyph\":null,\"muted_glyph\":null,\"nonselection_glyph\":{\"id\":\"513d6732-3da5-42e5-8b51-74855c96a6c7\",\"type\":\"Line\"},\"selection_glyph\":null,\"view\":{\"id\":\"397e0a6a-13d8-47a3-8c60-913fcaf1d1e4\",\"type\":\"CDSView\"}},\"id\":\"0d969731-2784-4cbb-a017-2a877ff8b495\",\"type\":\"GlyphRenderer\"},{\"attributes\":{\"label\":{\"value\":\"Calculated\"},\"renderers\":[{\"id\":\"0d969731-2784-4cbb-a017-2a877ff8b495\",\"type\":\"GlyphRenderer\"}]},\"id\":\"f884ef62-fa81-4a76-be1d-d3b4a994ac71\",\"type\":\"LegendItem\"},{\"attributes\":{\"formatter\":{\"id\":\"871debbc-1a19-44c3-9828-370ba3de9d85\",\"type\":\"BasicTickFormatter\"},\"plot\":{\"id\":\"645218c9-a89d-4905-bdd0-d1f0f23fafe7\",\"subtype\":\"Figure\",\"type\":\"Plot\"},\"ticker\":{\"id\":\"e835b394-16f2-4f88-b9ba-006102bcd2b3\",\"type\":\"BasicTicker\"}},\"id\":\"b654917d-ea15-4872-8dde-bfbc9a4264d0\",\"type\":\"LinearAxis\"},{\"attributes\":{},\"id\":\"2adc801c-2186-45b7-8af2-98eaff9fc9bb\",\"type\":\"BasicTicker\"},{\"attributes\":{},\"id\":\"871debbc-1a19-44c3-9828-370ba3de9d85\",\"type\":\"BasicTickFormatter\"},{\"attributes\":{\"bottom_units\":\"screen\",\"fill_alpha\":{\"value\":0.5},\"fill_color\":{\"value\":\"lightgrey\"},\"left_units\":\"screen\",\"level\":\"overlay\",\"line_alpha\":{\"value\":1.0},\"line_color\":{\"value\":\"black\"},\"line_dash\":[4,4],\"line_width\":{\"value\":2},\"plot\":null,\"render_mode\":\"css\",\"right_units\":\"screen\",\"top_units\":\"screen\"},\"id\":\"7fe59252-8e63-40a9-bf02-7efb6c4bd0a9\",\"type\":\"BoxAnnotation\"},{\"attributes\":{\"dimension\":1,\"plot\":{\"id\":\"645218c9-a89d-4905-bdd0-d1f0f23fafe7\",\"subtype\":\"Figure\",\"type\":\"Plot\"},\"ticker\":{\"id\":\"e835b394-16f2-4f88-b9ba-006102bcd2b3\",\"type\":\"BasicTicker\"}},\"id\":\"46e424e3-6583-4ffe-a396-ae80b6f534b6\",\"type\":\"Grid\"},{\"attributes\":{},\"id\":\"b726736a-c5fc-4850-97da-19f652ae707c\",\"type\":\"ResetTool\"},{\"attributes\":{\"callback\":null},\"id\":\"55ffd2a8-2000-4ffd-a725-ed976ab01ba3\",\"type\":\"DataRange1d\"},{\"attributes\":{\"formatter\":{\"id\":\"1e1b814a-b13f-4145-b21d-7628a6bb8a83\",\"type\":\"BasicTickFormatter\"},\"plot\":{\"id\":\"645218c9-a89d-4905-bdd0-d1f0f23fafe7\",\"subtype\":\"Figure\",\"type\":\"Plot\"},\"ticker\":{\"id\":\"2adc801c-2186-45b7-8af2-98eaff9fc9bb\",\"type\":\"BasicTicker\"}},\"id\":\"119b31f3-8cec-4f5e-b47e-f8d8fc0a68bd\",\"type\":\"LinearAxis\"},{\"attributes\":{\"line_alpha\":{\"value\":0.7},\"line_color\":{\"value\":\"#D95B43\"},\"line_width\":{\"value\":8},\"x\":{\"field\":\"x\"},\"y\":{\"field\":\"y\"}},\"id\":\"5bed66b0-a069-4c8a-9d2c-3ef2f64f2e75\",\"type\":\"Line\"},{\"attributes\":{},\"id\":\"c28b4c7e-9fcb-4d4e-8615-197350d6eb85\",\"type\":\"WheelZoomTool\"},{\"attributes\":{\"plot\":{\"id\":\"645218c9-a89d-4905-bdd0-d1f0f23fafe7\",\"subtype\":\"Figure\",\"type\":\"Plot\"},\"ticker\":{\"id\":\"2adc801c-2186-45b7-8af2-98eaff9fc9bb\",\"type\":\"BasicTicker\"}},\"id\":\"cd018daa-9b2b-4264-8d69-22bc51dcfdf0\",\"type\":\"Grid\"},{\"attributes\":{},\"id\":\"ee9dc885-cfb6-4b33-b227-846e1b2cf79e\",\"type\":\"PanTool\"},{\"attributes\":{\"plot\":null,\"text\":\"title\"},\"id\":\"3c139996-9a2d-4abc-a9bf-ceab827adb38\",\"type\":\"Title\"},{\"attributes\":{\"source\":{\"id\":\"f1e1b8b6-3209-496f-9575-5e03ca9d1d99\",\"type\":\"ColumnDataSource\"}},\"id\":\"397e0a6a-13d8-47a3-8c60-913fcaf1d1e4\",\"type\":\"CDSView\"},{\"attributes\":{\"below\":[{\"id\":\"119b31f3-8cec-4f5e-b47e-f8d8fc0a68bd\",\"type\":\"LinearAxis\"}],\"left\":[{\"id\":\"b654917d-ea15-4872-8dde-bfbc9a4264d0\",\"type\":\"LinearAxis\"}],\"plot_height\":400,\"plot_width\":900,\"renderers\":[{\"id\":\"119b31f3-8cec-4f5e-b47e-f8d8fc0a68bd\",\"type\":\"LinearAxis\"},{\"id\":\"cd018daa-9b2b-4264-8d69-22bc51dcfdf0\",\"type\":\"Grid\"},{\"id\":\"b654917d-ea15-4872-8dde-bfbc9a4264d0\",\"type\":\"LinearAxis\"},{\"id\":\"46e424e3-6583-4ffe-a396-ae80b6f534b6\",\"type\":\"Grid\"},{\"id\":\"7fe59252-8e63-40a9-bf02-7efb6c4bd0a9\",\"type\":\"BoxAnnotation\"},{\"id\":\"2292878e-10d7-4d1b-8a9f-f97e6e49fbb0\",\"type\":\"Legend\"},{\"id\":\"0d969731-2784-4cbb-a017-2a877ff8b495\",\"type\":\"GlyphRenderer\"}],\"title\":{\"id\":\"3c139996-9a2d-4abc-a9bf-ceab827adb38\",\"type\":\"Title\"},\"toolbar\":{\"id\":\"06c017c1-203c-4535-9014-cd4a62d16f54\",\"type\":\"Toolbar\"},\"x_range\":{\"id\":\"55ffd2a8-2000-4ffd-a725-ed976ab01ba3\",\"type\":\"DataRange1d\"},\"x_scale\":{\"id\":\"4c754703-941a-4806-894c-4b7515bafb3b\",\"type\":\"LinearScale\"},\"y_range\":{\"id\":\"4afd5829-4894-4927-be57-789ef43a63ae\",\"type\":\"DataRange1d\"},\"y_scale\":{\"id\":\"711eaf5d-8bd6-49dd-907c-e6e0cfb7b53d\",\"type\":\"LinearScale\"}},\"id\":\"645218c9-a89d-4905-bdd0-d1f0f23fafe7\",\"subtype\":\"Figure\",\"type\":\"Plot\"}],\"root_ids\":[\"645218c9-a89d-4905-bdd0-d1f0f23fafe7\"]},\"title\":\"Bokeh Application\",\"version\":\"0.12.10\"}};\n",
       "    var render_items = [{\"docid\":\"05a45675-a362-467d-a984-ef1cceac37a3\",\"elementid\":\"785a6c63-1051-412e-b33a-f6255336de9e\",\"modelid\":\"645218c9-a89d-4905-bdd0-d1f0f23fafe7\"}];\n",
       "\n",
       "    root.Bokeh.embed.embed_items(docs_json, render_items);\n",
       "  }\n",
       "\n",
       "  if (root.Bokeh !== undefined) {\n",
       "    embed_document(root);\n",
       "  } else {\n",
       "    var attempts = 0;\n",
       "    var timer = setInterval(function(root) {\n",
       "      if (root.Bokeh !== undefined) {\n",
       "        embed_document(root);\n",
       "        clearInterval(timer);\n",
       "      }\n",
       "      attempts++;\n",
       "      if (attempts > 100) {\n",
       "        console.log(\"Bokeh: ERROR: Unable to embed document because BokehJS library is missing\")\n",
       "        clearInterval(timer);\n",
       "      }\n",
       "    }, 10, root)\n",
       "  }\n",
       "})(window);"
      ],
      "application/vnd.bokehjs_exec.v0+json": ""
     },
     "metadata": {
      "application/vnd.bokehjs_exec.v0+json": {
       "id": "645218c9-a89d-4905-bdd0-d1f0f23fafe7"
      }
     },
     "output_type": "display_data"
    }
   ],
   "source": [
    "p = figure(title=\"title\", plot_height=400, plot_width=900)\n",
    "x = np.linspace(0.1, 1, 1000)\n",
    "a = 7\n",
    "b = 4\n",
    "calc = p.line(x=x, y= dphi_calc(x, a, b), line_color=\"#D95B43\", line_width=8, alpha=0.7, legend=\"Calculated\")\n",
    "show(p)"
   ]
  },
  {
   "cell_type": "code",
   "execution_count": null,
   "metadata": {},
   "outputs": [],
   "source": []
  }
 ],
 "metadata": {
  "kernelspec": {
   "display_name": "Python 3",
   "language": "python",
   "name": "python3"
  },
  "language_info": {
   "codemirror_mode": {
    "name": "ipython",
    "version": 3
   },
   "file_extension": ".py",
   "mimetype": "text/x-python",
   "name": "python",
   "nbconvert_exporter": "python",
   "pygments_lexer": "ipython3",
   "version": "3.6.3"
  }
 },
 "nbformat": 4,
 "nbformat_minor": 2
}
